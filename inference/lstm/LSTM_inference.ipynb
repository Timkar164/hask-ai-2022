{
 "cells": [
  {
   "cell_type": "code",
   "execution_count": 4,
   "id": "8ba1c881-615b-400e-9b67-d2a19c02d7f1",
   "metadata": {},
   "outputs": [
    {
     "name": "stdout",
     "output_type": "stream",
     "text": [
      "WARNING:tensorflow:Layer lstm will not use cuDNN kernels since it doesn't meet the criteria. It will use a generic GPU kernel as fallback when running on GPU.\n",
      "Loaded model from disk\n",
      "1/1 [==============================] - 0s 493ms/step\n",
      "[39]\n",
      "1/1 [==============================] - 0s 59ms/step\n",
      "[9]\n"
     ]
    }
   ],
   "source": [
    "import keras\n",
    "import numpy as np\n",
    "from sklearn.preprocessing import LabelEncoder\n",
    "from keras.models import Sequential, model_from_json\n",
    "from keras.layers import Dense, Embedding, LSTM\n",
    "from keras.preprocessing.sequence import pad_sequences\n",
    "from keras.preprocessing.text import tokenizer_from_json\n",
    "import json\n",
    "\n",
    "class ClassifierLSTM:\n",
    "    \n",
    "    def __init__(self):\n",
    "        # load json and create model\n",
    "        json_file = open('lstm_2_digits.json', 'r')\n",
    "        loaded_model_json = json_file.read()\n",
    "        json_file.close()\n",
    "        self.model = model_from_json(loaded_model_json)\n",
    "        # load weights into new model\n",
    "        self.model.load_weights(\"lstm_2_digits.h5\")\n",
    "        print(\"Loaded model from disk\")\n",
    "        \n",
    "        with open('lstm_tokenizer.json') as f:\n",
    "            data = json.load(f)\n",
    "            self.tokenizer = tokenizer_from_json(data)\n",
    "        \n",
    "        self.encoder = LabelEncoder()\n",
    "        self.encoder.classes_ = np.load('lstm_encoder_classes.npy')\n",
    "        \n",
    "    def predict(self, line):\n",
    "        text_sec = self.tokenizer.texts_to_sequences([input_line])\n",
    "        text_sec = pad_sequences(text_sec, maxlen=69)\n",
    "        pred = self.model.predict(text_sec, batch_size=1, verbose=1)\n",
    "        pred = np.argmax(pred,axis=1)\n",
    "        pred = self.encoder.inverse_transform(pred) - 1\n",
    "        if pred < 0:\n",
    "            pred = 0\n",
    "        \n",
    "        return pred\n",
    "        \n",
    "myLSTMmodel = ClassifierLSTM()\n",
    "\n",
    "input_line = 'изделия прочие пластмасс изделия прочих материалов товарных позиций 3901 3914 прочие прочие прочие прочие' \n",
    "res = myLSTMmodel.predict(input_line)\n",
    "print(res)\n",
    "\n",
    "input_line = 'прочие семена плоды прочих масличных культур'\n",
    "res = myLSTMmodel.predict(input_line)\n",
    "print(res)"
   ]
  },
  {
   "cell_type": "code",
   "execution_count": null,
   "id": "0eb72081-776c-4eea-be88-a4920cf97674",
   "metadata": {},
   "outputs": [],
   "source": []
  }
 ],
 "metadata": {
  "kernelspec": {
   "display_name": "Python 3 (ipykernel)",
   "language": "python",
   "name": "python3"
  },
  "language_info": {
   "codemirror_mode": {
    "name": "ipython",
    "version": 3
   },
   "file_extension": ".py",
   "mimetype": "text/x-python",
   "name": "python",
   "nbconvert_exporter": "python",
   "pygments_lexer": "ipython3",
   "version": "3.8.10"
  }
 },
 "nbformat": 4,
 "nbformat_minor": 5
}
