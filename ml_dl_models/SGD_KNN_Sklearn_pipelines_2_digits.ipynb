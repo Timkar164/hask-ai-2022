{
 "cells": [
  {
   "cell_type": "code",
   "execution_count": 1,
   "metadata": {},
   "outputs": [
    {
     "name": "stdout",
     "output_type": "stream",
     "text": [
      "['.ipynb_checkpoints', 'dataset.csv', 'Sklearn-piplines.ipynb']\n"
     ]
    }
   ],
   "source": [
    "import pandas as pd\n",
    "from wordcloud import WordCloud, STOPWORDS, ImageColorGenerator\n",
    "import os \n",
    "print(os.listdir())\n",
    "import pickle"
   ]
  },
  {
   "cell_type": "code",
   "execution_count": 2,
   "metadata": {},
   "outputs": [],
   "source": [
    "data = pd.read_csv('dataset.csv',encoding='utf-8',sep=';')"
   ]
  },
  {
   "cell_type": "code",
   "execution_count": 3,
   "metadata": {},
   "outputs": [
    {
     "name": "stderr",
     "output_type": "stream",
     "text": [
      "[nltk_data] Downloading package stopwords to\n",
      "[nltk_data]     C:\\Users\\pitonhik\\AppData\\Roaming\\nltk_data...\n",
      "[nltk_data]   Package stopwords is already up-to-date!\n"
     ]
    }
   ],
   "source": [
    "import nltk\n",
    "nltk.download(\"stopwords\")\n",
    "from nltk.corpus import stopwords\n",
    "from string import punctuation\n",
    "russian_stopwords = stopwords.words(\"russian\")"
   ]
  },
  {
   "cell_type": "code",
   "execution_count": 4,
   "metadata": {},
   "outputs": [],
   "source": [
    "# Получение текстовой строки из списка слов\n",
    "def str_corpus(corpus):\n",
    "    str_corpus = ''\n",
    "    for i in corpus:\n",
    "        str_corpus += ' ' + i\n",
    "    str_corpus = str_corpus.strip()\n",
    "    return str_corpus\n",
    "# Получение списка всех слов в корпусе\n",
    "def get_corpus(data):\n",
    "    corpus = []\n",
    "    for phrase in data:\n",
    "        for word in phrase.split():\n",
    "            corpus.append(word)\n",
    "    return corpus\n",
    "# Получение облака слов\n",
    "def get_wordCloud(corpus):\n",
    "    wordCloud = WordCloud(background_color='white',\n",
    "                              stopwords=STOPWORDS,\n",
    "                              width=3000,\n",
    "                              height=2500,\n",
    "                              max_words=200,\n",
    "                              random_state=42\n",
    "                         ).generate(str_corpus(corpus))\n",
    "    return wordCloud"
   ]
  },
  {
   "cell_type": "code",
   "execution_count": null,
   "metadata": {},
   "outputs": [],
   "source": []
  },
  {
   "cell_type": "code",
   "execution_count": null,
   "metadata": {},
   "outputs": [],
   "source": []
  },
  {
   "cell_type": "code",
   "execution_count": 5,
   "metadata": {},
   "outputs": [],
   "source": [
    "def remove_punct(text):\n",
    "    table = {33: ' ', 34: ' ', 35: ' ', 36: ' ', 37: ' ', 38: ' ', 39: ' ', 40: ' ', 41: ' ', 42: ' ', 43: ' ', 44: ' ', 45: ' ', 46: ' ', 47: ' ', 58: ' ', 59: ' ', 60: ' ', 61: ' ', 62: ' ', 63: ' ', 64: ' ', 91: ' ', 92: ' ', 93: ' ', 94: ' ', 95: ' ', 96: ' ', 123: ' ', 124: ' ', 125: ' ', 126: ' '}\n",
    "    return text.translate(table)\n",
    "\n",
    "data['Post_clean'] = data['OPISANIE'].map(lambda x: x.lower())\n",
    "data['Post_clean'] = data['Post_clean'].map(lambda x: remove_punct(x))\n",
    "data['Post_clean'] = data['Post_clean'].map(lambda x: x.split(' '))\n",
    "data['Post_clean'] = data['Post_clean'].map(lambda x: [token for token in x if token not in russian_stopwords\\\n",
    "                                                                  and token != \" \" \\\n",
    "                                                                  and token.strip() not in punctuation])\n",
    "data['Post_clean'] = data['Post_clean'].map(lambda x: ' '.join(x))\n",
    "data['TNVED']=data['TNVED'].map(lambda x: int(str(x)[:2]))"
   ]
  },
  {
   "cell_type": "code",
   "execution_count": 6,
   "metadata": {},
   "outputs": [
    {
     "data": {
      "text/plain": [
       "TNVED         0\n",
       "OPISANIE      0\n",
       "DATA          0\n",
       "Post_clean    0\n",
       "dtype: int64"
      ]
     },
     "execution_count": 6,
     "metadata": {},
     "output_type": "execute_result"
    }
   ],
   "source": [
    "data.isnull().sum()"
   ]
  },
  {
   "cell_type": "code",
   "execution_count": 7,
   "metadata": {},
   "outputs": [
    {
     "data": {
      "text/html": [
       "<div>\n",
       "<style scoped>\n",
       "    .dataframe tbody tr th:only-of-type {\n",
       "        vertical-align: middle;\n",
       "    }\n",
       "\n",
       "    .dataframe tbody tr th {\n",
       "        vertical-align: top;\n",
       "    }\n",
       "\n",
       "    .dataframe thead th {\n",
       "        text-align: right;\n",
       "    }\n",
       "</style>\n",
       "<table border=\"1\" class=\"dataframe\">\n",
       "  <thead>\n",
       "    <tr style=\"text-align: right;\">\n",
       "      <th></th>\n",
       "      <th>TNVED</th>\n",
       "      <th>OPISANIE</th>\n",
       "      <th>DATA</th>\n",
       "      <th>Post_clean</th>\n",
       "    </tr>\n",
       "  </thead>\n",
       "  <tbody>\n",
       "    <tr>\n",
       "      <th>0</th>\n",
       "      <td>90</td>\n",
       "      <td>ЧАСТИ И ПРИНАДЛЕЖНОСТИ АППАРАТУРЫ ПОЗ.9025, НЕ...</td>\n",
       "      <td>07.09.2021</td>\n",
       "      <td>части принадлежности аппаратуры поз 9025 военн...</td>\n",
       "    </tr>\n",
       "    <tr>\n",
       "      <th>1</th>\n",
       "      <td>85</td>\n",
       "      <td>ТРАНСФОРМАТОРЫ, МОЩНОСТЬЮ БОЛЕЕ 1 КВА, НО НЕ Б...</td>\n",
       "      <td>07.09.2021</td>\n",
       "      <td>трансформаторы мощностью 1 ква 16 ква лом элек...</td>\n",
       "    </tr>\n",
       "    <tr>\n",
       "      <th>2</th>\n",
       "      <td>84</td>\n",
       "      <td>КЛАПАНЫ ЗАПОРНЫЕ ИЗ СТАЛИ, НЕ ВОЕННОГО НАЗНАЧЕ...</td>\n",
       "      <td>07.09.2021</td>\n",
       "      <td>клапаны запорные стали военного назначения</td>\n",
       "    </tr>\n",
       "    <tr>\n",
       "      <th>3</th>\n",
       "      <td>85</td>\n",
       "      <td>УСТРОЙСТВА СИГНАЛИЗАЦИОННЫЕ ОХРАННЫЕ И УСТРОЙС...</td>\n",
       "      <td>07.09.2021</td>\n",
       "      <td>устройства сигнализационные охранные устройств...</td>\n",
       "    </tr>\n",
       "    <tr>\n",
       "      <th>4</th>\n",
       "      <td>34</td>\n",
       "      <td>ВЕЩЕСТВА ПОВЕРХНОСТНО-АКТИВНЫЕ ОРГАНИЧЕСКИЕ, А...</td>\n",
       "      <td>02.09.2021</td>\n",
       "      <td>вещества поверхностно активные органические ан...</td>\n",
       "    </tr>\n",
       "    <tr>\n",
       "      <th>...</th>\n",
       "      <td>...</td>\n",
       "      <td>...</td>\n",
       "      <td>...</td>\n",
       "      <td>...</td>\n",
       "    </tr>\n",
       "    <tr>\n",
       "      <th>4177894</th>\n",
       "      <td>27</td>\n",
       "      <td>МИНЕРАЛЬНОЕ МОТОРНОЕ МАСЛО, ВСЕСЕЗОННОЕ, ДЛЯ Д...</td>\n",
       "      <td>24.10.2021</td>\n",
       "      <td>минеральное моторное масло всесезонное дизельн...</td>\n",
       "    </tr>\n",
       "    <tr>\n",
       "      <th>4177895</th>\n",
       "      <td>34</td>\n",
       "      <td>СИНТЕТИЧЕСКОЕ МОТОРНОЕ МАСЛО, ВСЕСЕЗОННОЕ, ДЛЯ...</td>\n",
       "      <td>24.10.2021</td>\n",
       "      <td>синтетическое моторное масло всесезонное дизел...</td>\n",
       "    </tr>\n",
       "    <tr>\n",
       "      <th>4177896</th>\n",
       "      <td>34</td>\n",
       "      <td>СИНТЕТИЧЕСКОЕ МОТОРНОЕ МАСЛО, ВСЕСЕЗОННОЕ, ДЛЯ...</td>\n",
       "      <td>24.10.2021</td>\n",
       "      <td>синтетическое моторное масло всесезонное дизел...</td>\n",
       "    </tr>\n",
       "    <tr>\n",
       "      <th>4177897</th>\n",
       "      <td>34</td>\n",
       "      <td>МАСЛО ТРАНСМИССИОННОЕ НА СИНТЕТИЧЕСКОЙ ОСНОВЕ,...</td>\n",
       "      <td>24.10.2021</td>\n",
       "      <td>масло трансмиссионное синтетической основе сод...</td>\n",
       "    </tr>\n",
       "    <tr>\n",
       "      <th>4177898</th>\n",
       "      <td>34</td>\n",
       "      <td>МАСЛО ТРАНСМИССИОННОЕ НА СИНТЕТИЧЕСКОЙ ОСНОВЕ,...</td>\n",
       "      <td>24.10.2021</td>\n",
       "      <td>масло трансмиссионное синтетической основе сод...</td>\n",
       "    </tr>\n",
       "  </tbody>\n",
       "</table>\n",
       "<p>4177899 rows × 4 columns</p>\n",
       "</div>"
      ],
      "text/plain": [
       "         TNVED                                           OPISANIE        DATA  \\\n",
       "0           90  ЧАСТИ И ПРИНАДЛЕЖНОСТИ АППАРАТУРЫ ПОЗ.9025, НЕ...  07.09.2021   \n",
       "1           85  ТРАНСФОРМАТОРЫ, МОЩНОСТЬЮ БОЛЕЕ 1 КВА, НО НЕ Б...  07.09.2021   \n",
       "2           84  КЛАПАНЫ ЗАПОРНЫЕ ИЗ СТАЛИ, НЕ ВОЕННОГО НАЗНАЧЕ...  07.09.2021   \n",
       "3           85  УСТРОЙСТВА СИГНАЛИЗАЦИОННЫЕ ОХРАННЫЕ И УСТРОЙС...  07.09.2021   \n",
       "4           34  ВЕЩЕСТВА ПОВЕРХНОСТНО-АКТИВНЫЕ ОРГАНИЧЕСКИЕ, А...  02.09.2021   \n",
       "...        ...                                                ...         ...   \n",
       "4177894     27  МИНЕРАЛЬНОЕ МОТОРНОЕ МАСЛО, ВСЕСЕЗОННОЕ, ДЛЯ Д...  24.10.2021   \n",
       "4177895     34  СИНТЕТИЧЕСКОЕ МОТОРНОЕ МАСЛО, ВСЕСЕЗОННОЕ, ДЛЯ...  24.10.2021   \n",
       "4177896     34  СИНТЕТИЧЕСКОЕ МОТОРНОЕ МАСЛО, ВСЕСЕЗОННОЕ, ДЛЯ...  24.10.2021   \n",
       "4177897     34  МАСЛО ТРАНСМИССИОННОЕ НА СИНТЕТИЧЕСКОЙ ОСНОВЕ,...  24.10.2021   \n",
       "4177898     34  МАСЛО ТРАНСМИССИОННОЕ НА СИНТЕТИЧЕСКОЙ ОСНОВЕ,...  24.10.2021   \n",
       "\n",
       "                                                Post_clean  \n",
       "0        части принадлежности аппаратуры поз 9025 военн...  \n",
       "1        трансформаторы мощностью 1 ква 16 ква лом элек...  \n",
       "2               клапаны запорные стали военного назначения  \n",
       "3        устройства сигнализационные охранные устройств...  \n",
       "4        вещества поверхностно активные органические ан...  \n",
       "...                                                    ...  \n",
       "4177894  минеральное моторное масло всесезонное дизельн...  \n",
       "4177895  синтетическое моторное масло всесезонное дизел...  \n",
       "4177896  синтетическое моторное масло всесезонное дизел...  \n",
       "4177897  масло трансмиссионное синтетической основе сод...  \n",
       "4177898  масло трансмиссионное синтетической основе сод...  \n",
       "\n",
       "[4177899 rows x 4 columns]"
      ]
     },
     "execution_count": 7,
     "metadata": {},
     "output_type": "execute_result"
    }
   ],
   "source": [
    "data"
   ]
  },
  {
   "cell_type": "code",
   "execution_count": 8,
   "metadata": {},
   "outputs": [],
   "source": [
    "from sklearn.model_selection import train_test_split\n",
    "X_train, X_valid, y_train, y_valid = train_test_split(data['Post_clean'], data['TNVED'], test_size=0.1, random_state=42)\n",
    "X_train, X_test, y_train, y_test = train_test_split(X_train, y_train, test_size=0.2, random_state=42)"
   ]
  },
  {
   "cell_type": "code",
   "execution_count": 9,
   "metadata": {},
   "outputs": [],
   "source": [
    "from sklearn.pipeline import Pipeline\n",
    "# pipeline позволяет объединить в один блок трансформер и модель, что упрощает написание кода и улучшает его читаемость\n",
    "from sklearn.feature_extraction.text import TfidfVectorizer\n",
    "# TfidfVectorizer преобразует тексты в числовые вектора, отражающие важность использования каждого слова из некоторого набора слов (количество слов набора определяет размерность вектора) в каждом тексте\n",
    "from sklearn.linear_model import SGDClassifier\n",
    "from sklearn.neighbors import KNeighborsClassifier\n",
    "# линейный классификатор и классификатор методом ближайших соседей\n",
    "from sklearn import metrics\n",
    "# набор метрик для оценки качества модели\n",
    "from sklearn.model_selection import GridSearchCV\n",
    "# модуль поиска по сетке параметров"
   ]
  },
  {
   "cell_type": "code",
   "execution_count": 10,
   "metadata": {},
   "outputs": [
    {
     "name": "stdout",
     "output_type": "stream",
     "text": [
      "sgd Завершена\n",
      "knb Завершена\n"
     ]
    }
   ],
   "source": [
    "sgd_ppl_clf = Pipeline([\n",
    "    ('tfidf', TfidfVectorizer()),\n",
    "    ('sgd_clf', SGDClassifier(random_state=42))])\n",
    "knb_ppl_clf = Pipeline([\n",
    "    ('tfidf', TfidfVectorizer()),\n",
    "    ('knb_clf', KNeighborsClassifier(n_neighbors=10))])\n",
    "sgd_ppl_clf.fit(X_train, y_train)\n",
    "pickle.dump(sgd_ppl_clf, open('sgd_ppl_clf.pkl', 'wb'))\n",
    "print('sgd Завершена')\n",
    "knb_ppl_clf.fit(X_train, y_train)\n",
    "pickle.dump(knb_ppl_clf, open('knb_ppl_clf.pkl', 'wb'))\n",
    "print('knb Завершена')"
   ]
  },
  {
   "cell_type": "code",
   "execution_count": 11,
   "metadata": {},
   "outputs": [
    {
     "name": "stdout",
     "output_type": "stream",
     "text": [
      "              precision    recall  f1-score   support\n",
      "\n",
      "          10       0.82      0.95      0.88       657\n",
      "          11       0.90      0.87      0.89       863\n",
      "          12       0.74      0.81      0.78       779\n",
      "          13       0.34      0.76      0.47        80\n",
      "          14       0.06      1.00      0.11         3\n",
      "          15       0.79      0.97      0.87       986\n",
      "          16       0.91      0.92      0.92      2685\n",
      "          17       0.70      0.86      0.77      1661\n",
      "          18       0.89      0.85      0.87      3400\n",
      "          19       0.89      0.94      0.91      3711\n",
      "          20       0.92      0.89      0.90      4861\n",
      "          21       0.83      0.85      0.84      3617\n",
      "          22       0.99      0.96      0.97      9914\n",
      "          23       0.88      0.89      0.88      1200\n",
      "          24       0.96      0.98      0.97       444\n",
      "          25       0.66      0.93      0.78       988\n",
      "          26       0.64      0.90      0.75       124\n",
      "          27       0.96      0.82      0.88     11446\n",
      "          28       0.56      0.91      0.69      1700\n",
      "          29       0.83      0.76      0.79      5076\n",
      "          30       0.93      0.93      0.93      9594\n",
      "          31       0.88      0.89      0.88       568\n",
      "          32       0.85      0.84      0.85      4626\n",
      "          33       0.96      0.90      0.93     10447\n",
      "          34       0.67      0.93      0.78      5293\n",
      "          35       0.63      0.85      0.72       939\n",
      "          36       0.25      1.00      0.40        19\n",
      "          37       0.41      0.82      0.54       152\n",
      "          38       0.53      0.86      0.66      3083\n",
      "          39       0.88      0.88      0.88     41336\n",
      "          40       0.94      0.96      0.95     38839\n",
      "          41       0.76      0.98      0.86        65\n",
      "          42       0.92      0.97      0.94      6625\n",
      "          43       0.54      0.99      0.70       168\n",
      "          44       0.99      0.97      0.98     24193\n",
      "          45       0.10      1.00      0.19        11\n",
      "          46       0.79      0.96      0.87       230\n",
      "          47       0.83      0.98      0.90       351\n",
      "          48       0.91      0.88      0.90      8770\n",
      "          49       0.85      0.91      0.88      2405\n",
      "          50       0.19      1.00      0.32        12\n",
      "          51       0.39      0.98      0.56        61\n",
      "          52       0.83      0.81      0.82       634\n",
      "          53       0.17      1.00      0.30        13\n",
      "          54       0.66      0.88      0.75       659\n",
      "          55       0.66      0.95      0.78       402\n",
      "          56       0.50      0.93      0.65       686\n",
      "          57       0.89      0.97      0.93       936\n",
      "          58       0.45      0.97      0.62       321\n",
      "          59       0.31      0.92      0.47       381\n",
      "          60       0.94      0.98      0.96      6410\n",
      "          61       0.96      0.95      0.96     42172\n",
      "          62       0.96      0.91      0.94     36266\n",
      "          63       0.62      0.93      0.74      3173\n",
      "          64       1.00      0.99      0.99     15213\n",
      "          65       0.84      0.99      0.91      1949\n",
      "          66       0.84      0.95      0.89       187\n",
      "          67       0.57      0.96      0.71       207\n",
      "          68       0.75      0.89      0.81      3943\n",
      "          69       0.95      0.94      0.94      4459\n",
      "          70       0.92      0.90      0.91     11830\n",
      "          71       0.71      0.92      0.80      1092\n",
      "          72       0.94      0.95      0.95      5544\n",
      "          73       0.91      0.90      0.90     56076\n",
      "          74       0.71      0.86      0.78      2650\n",
      "          75       0.15      1.00      0.26        29\n",
      "          76       0.85      0.88      0.86      5083\n",
      "          78       0.20      0.93      0.33        15\n",
      "          79       0.51      0.94      0.66        93\n",
      "          80       0.97      0.85      0.91      7514\n",
      "          81       0.50      0.96      0.66      1211\n",
      "          82       0.88      0.89      0.89     11610\n",
      "          83       0.75      0.94      0.84      9207\n",
      "          84       0.91      0.87      0.89    101586\n",
      "          85       0.95      0.89      0.92    109458\n",
      "          86       0.67      0.95      0.79       527\n",
      "          87       0.93      0.87      0.90     51808\n",
      "          88       0.07      1.00      0.12         2\n",
      "          89       0.29      0.18      0.22       259\n",
      "          90       0.81      0.90      0.85     20067\n",
      "          91       0.90      0.97      0.93      2802\n",
      "          92       0.49      0.98      0.66       247\n",
      "          93       0.08      1.00      0.15         4\n",
      "          94       0.88      0.95      0.91     12622\n",
      "          95       0.91      0.93      0.92      5601\n",
      "          96       0.76      0.90      0.82      5088\n",
      "          97       0.11      1.00      0.19         4\n",
      "\n",
      "    accuracy                           0.90    752022\n",
      "   macro avg       0.70      0.91      0.76    752022\n",
      "weighted avg       0.91      0.90      0.91    752022\n",
      "\n"
     ]
    }
   ],
   "source": [
    "predicted_sgd = sgd_ppl_clf.predict(X_test)\n",
    "print(metrics.classification_report(predicted_sgd, y_test))"
   ]
  },
  {
   "cell_type": "code",
   "execution_count": null,
   "metadata": {},
   "outputs": [],
   "source": [
    "predicted_sgd = knb_ppl_clf.predict(X_test)\n",
    "print(metrics.classification_report(predicted_sgd, y_test))"
   ]
  },
  {
   "cell_type": "code",
   "execution_count": null,
   "metadata": {},
   "outputs": [],
   "source": [
    "sgd_ppl_clf = Pipeline([\n",
    "    ('tfidf', TfidfVectorizer(ngram_range=(1, 2))),\n",
    "    ('sgd_clf', SGDClassifier(penalty='elasticnet', class_weight='balanced', random_state=42))])\n",
    "sgd_ppl_clf.fit(X_train, y_train)\n",
    "pickle.dump(knb_ppl_clf, open('sgd_ppl_clf_pipline.pkl', 'wb'))\n",
    "predicted_sgd = sgd_ppl_clf.predict(X_test)\n",
    "print(metrics.classification_report(predicted_sgd, y_test))"
   ]
  },
  {
   "cell_type": "code",
   "execution_count": null,
   "metadata": {},
   "outputs": [],
   "source": [
    "predicted_sgd_val = sgd_ppl_clf.predict(X_valid)\n",
    "print(metrics.classification_report(predicted_sgd_val, y_valid))"
   ]
  },
  {
   "cell_type": "code",
   "execution_count": null,
   "metadata": {},
   "outputs": [],
   "source": []
  },
  {
   "cell_type": "code",
   "execution_count": null,
   "metadata": {},
   "outputs": [],
   "source": []
  }
 ],
 "metadata": {
  "kernelspec": {
   "display_name": "Python 3 (ipykernel)",
   "language": "python",
   "name": "python3"
  },
  "language_info": {
   "codemirror_mode": {
    "name": "ipython",
    "version": 3
   },
   "file_extension": ".py",
   "mimetype": "text/x-python",
   "name": "python",
   "nbconvert_exporter": "python",
   "pygments_lexer": "ipython3",
   "version": "3.7.1"
  }
 },
 "nbformat": 4,
 "nbformat_minor": 4
}
