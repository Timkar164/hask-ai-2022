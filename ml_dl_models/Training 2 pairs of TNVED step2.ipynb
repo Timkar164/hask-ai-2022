{
 "cells": [
  {
   "cell_type": "markdown",
   "metadata": {},
   "source": [
    "### Обучение SGDClassifier и NeighborSampler для предсказания 2 значной послеовательности (Код товарной позиции)"
   ]
  },
  {
   "cell_type": "code",
   "execution_count": null,
   "metadata": {},
   "outputs": [],
   "source": [
    "import sklearn\n",
    "import numpy as np\n",
    "from sklearn.pipeline import make_pipeline\n",
    "from sklearn.feature_extraction.text import TfidfVectorizer\n",
    "from sklearn.decomposition import TruncatedSVD\n",
    "from sklearn.neighbors import BallTree\n",
    "from sklearn.base import BaseEstimator\n",
    "import json\n",
    "import pickle\n",
    "import pandas as pd"
   ]
  },
  {
   "cell_type": "code",
   "execution_count": 2,
   "metadata": {},
   "outputs": [],
   "source": [
    "def softmax(x):\n",
    "  #создание вероятностного распределения\n",
    "  proba = np.exp(-x)\n",
    "  return proba / sum(proba)"
   ]
  },
  {
   "cell_type": "code",
   "execution_count": 3,
   "metadata": {},
   "outputs": [],
   "source": [
    "class NeighborSampler(BaseEstimator):\n",
    "  def __init__(self, k=5, temperature=10.0):\n",
    "    self.k=k\n",
    "    self.temperature = temperature\n",
    "  def fit(self, X, y):\n",
    "    self.tree_ = BallTree(X)\n",
    "    self.y_ = np.array(y)\n",
    "  def predict(self, X, random_state=None):\n",
    "    distances, indices = self.tree_.query(X, return_distance=True, k=self.k)\n",
    "    result = []\n",
    "    resultDist = []\n",
    "    for distance, index in zip(distances, indices):\n",
    "      result.append(np.random.choice(index, p=softmax(distance * self.temperature)))\n",
    "      resultDist.append(np.random.choice(distance, p=softmax(distance * self.temperature)))\n",
    "    return self.y_[result] , resultDist"
   ]
  },
  {
   "cell_type": "code",
   "execution_count": 4,
   "metadata": {},
   "outputs": [],
   "source": [
    "data = pd.read_csv('dataset.csv',sep=';')"
   ]
  },
  {
   "cell_type": "code",
   "execution_count": 5,
   "metadata": {},
   "outputs": [
    {
     "name": "stderr",
     "output_type": "stream",
     "text": [
      "[nltk_data] Downloading package stopwords to\n",
      "[nltk_data]     C:\\Users\\timka\\AppData\\Roaming\\nltk_data...\n",
      "[nltk_data]   Package stopwords is already up-to-date!\n"
     ]
    }
   ],
   "source": [
    "import nltk\n",
    "nltk.download(\"stopwords\")\n",
    "from nltk.corpus import stopwords\n",
    "from string import punctuation\n",
    "russian_stopwords = stopwords.words(\"russian\")"
   ]
  },
  {
   "cell_type": "code",
   "execution_count": 6,
   "metadata": {},
   "outputs": [],
   "source": [
    "# Получение текстовой строки из списка слов\n",
    "def str_corpus(corpus):\n",
    "    str_corpus = ''\n",
    "    for i in corpus:\n",
    "        str_corpus += ' ' + i\n",
    "    str_corpus = str_corpus.strip()\n",
    "    return str_corpus\n",
    "# Получение списка всех слов в корпусе\n",
    "def get_corpus(data):\n",
    "    corpus = []\n",
    "    for phrase in data:\n",
    "        for word in phrase.split():\n",
    "            corpus.append(word)\n",
    "    return corpus\n",
    "# Получение облака слов\n",
    "def get_wordCloud(corpus):\n",
    "    wordCloud = WordCloud(background_color='white',\n",
    "                              stopwords=STOPWORDS,\n",
    "                              width=3000,\n",
    "                              height=2500,\n",
    "                              max_words=200,\n",
    "                              random_state=42\n",
    "                         ).generate(str_corpus(corpus))\n",
    "    return wordCloud"
   ]
  },
  {
   "cell_type": "code",
   "execution_count": 7,
   "metadata": {},
   "outputs": [],
   "source": [
    "data=data[:10000]"
   ]
  },
  {
   "cell_type": "code",
   "execution_count": 8,
   "metadata": {},
   "outputs": [],
   "source": [
    "def remove_punct(text):\n",
    "    table = {33: ' ', 34: ' ', 35: ' ', 36: ' ', 37: ' ', 38: ' ', 39: ' ', 40: ' ', 41: ' ', 42: ' ', 43: ' ', 44: ' ', 45: ' ', 46: ' ', 47: ' ', 58: ' ', 59: ' ', 60: ' ', 61: ' ', 62: ' ', 63: ' ', 64: ' ', 91: ' ', 92: ' ', 93: ' ', 94: ' ', 95: ' ', 96: ' ', 123: ' ', 124: ' ', 125: ' ', 126: ' '}\n",
    "    return text.translate(table)\n",
    "\n",
    "data['Post_clean'] = data['OPISANIE'].map(lambda x: x.lower())\n",
    "data['Post_clean'] = data['Post_clean'].map(lambda x: remove_punct(x))\n",
    "data['Post_clean'] = data['Post_clean'].map(lambda x: x.split(' '))\n",
    "data['Post_clean'] = data['Post_clean'].map(lambda x: [token for token in x if token not in russian_stopwords\\\n",
    "                                                                  and token != \" \" \\\n",
    "                                                                  and token.strip() not in punctuation])\n",
    "data['Post_clean'] = data['Post_clean'].map(lambda x: ' '.join(x))"
   ]
  },
  {
   "cell_type": "code",
   "execution_count": 9,
   "metadata": {},
   "outputs": [],
   "source": [
    "data['TNVED2']=data['TNVED'].map(lambda x: int(str(x)[:-2]))"
   ]
  },
  {
   "cell_type": "code",
   "execution_count": 10,
   "metadata": {},
   "outputs": [],
   "source": [
    "data['TNVED4']=data['TNVED'].map(lambda x: int(str(x)[2:]))"
   ]
  },
  {
   "cell_type": "code",
   "execution_count": 11,
   "metadata": {},
   "outputs": [
    {
     "data": {
      "text/plain": [
       "TNVED         0\n",
       "OPISANIE      0\n",
       "DATA          0\n",
       "Post_clean    0\n",
       "TNVED2        0\n",
       "TNVED4        0\n",
       "dtype: int64"
      ]
     },
     "execution_count": 11,
     "metadata": {},
     "output_type": "execute_result"
    }
   ],
   "source": [
    "data.isnull().sum()"
   ]
  },
  {
   "cell_type": "code",
   "execution_count": 12,
   "metadata": {},
   "outputs": [
    {
     "data": {
      "text/html": [
       "<div>\n",
       "<style scoped>\n",
       "    .dataframe tbody tr th:only-of-type {\n",
       "        vertical-align: middle;\n",
       "    }\n",
       "\n",
       "    .dataframe tbody tr th {\n",
       "        vertical-align: top;\n",
       "    }\n",
       "\n",
       "    .dataframe thead th {\n",
       "        text-align: right;\n",
       "    }\n",
       "</style>\n",
       "<table border=\"1\" class=\"dataframe\">\n",
       "  <thead>\n",
       "    <tr style=\"text-align: right;\">\n",
       "      <th></th>\n",
       "      <th>TNVED</th>\n",
       "      <th>OPISANIE</th>\n",
       "      <th>DATA</th>\n",
       "      <th>Post_clean</th>\n",
       "      <th>TNVED2</th>\n",
       "      <th>TNVED4</th>\n",
       "    </tr>\n",
       "  </thead>\n",
       "  <tbody>\n",
       "    <tr>\n",
       "      <th>0</th>\n",
       "      <td>9025</td>\n",
       "      <td>ЧАСТИ И ПРИНАДЛЕЖНОСТИ АППАРАТУРЫ ПОЗ.9025, НЕ...</td>\n",
       "      <td>07.09.2021</td>\n",
       "      <td>части принадлежности аппаратуры поз 9025 военн...</td>\n",
       "      <td>90</td>\n",
       "      <td>25</td>\n",
       "    </tr>\n",
       "    <tr>\n",
       "      <th>1</th>\n",
       "      <td>8504</td>\n",
       "      <td>ТРАНСФОРМАТОРЫ, МОЩНОСТЬЮ БОЛЕЕ 1 КВА, НО НЕ Б...</td>\n",
       "      <td>07.09.2021</td>\n",
       "      <td>трансформаторы мощностью 1 ква 16 ква лом элек...</td>\n",
       "      <td>85</td>\n",
       "      <td>4</td>\n",
       "    </tr>\n",
       "    <tr>\n",
       "      <th>2</th>\n",
       "      <td>8481</td>\n",
       "      <td>КЛАПАНЫ ЗАПОРНЫЕ ИЗ СТАЛИ, НЕ ВОЕННОГО НАЗНАЧЕ...</td>\n",
       "      <td>07.09.2021</td>\n",
       "      <td>клапаны запорные стали военного назначения</td>\n",
       "      <td>84</td>\n",
       "      <td>81</td>\n",
       "    </tr>\n",
       "    <tr>\n",
       "      <th>3</th>\n",
       "      <td>8531</td>\n",
       "      <td>УСТРОЙСТВА СИГНАЛИЗАЦИОННЫЕ ОХРАННЫЕ И УСТРОЙС...</td>\n",
       "      <td>07.09.2021</td>\n",
       "      <td>устройства сигнализационные охранные устройств...</td>\n",
       "      <td>85</td>\n",
       "      <td>31</td>\n",
       "    </tr>\n",
       "    <tr>\n",
       "      <th>4</th>\n",
       "      <td>3402</td>\n",
       "      <td>ВЕЩЕСТВА ПОВЕРХНОСТНО-АКТИВНЫЕ ОРГАНИЧЕСКИЕ, А...</td>\n",
       "      <td>02.09.2021</td>\n",
       "      <td>вещества поверхностно активные органические ан...</td>\n",
       "      <td>34</td>\n",
       "      <td>2</td>\n",
       "    </tr>\n",
       "    <tr>\n",
       "      <th>...</th>\n",
       "      <td>...</td>\n",
       "      <td>...</td>\n",
       "      <td>...</td>\n",
       "      <td>...</td>\n",
       "      <td>...</td>\n",
       "      <td>...</td>\n",
       "    </tr>\n",
       "    <tr>\n",
       "      <th>9995</th>\n",
       "      <td>8512</td>\n",
       "      <td>ПРИБОРЫ ОСВЕЩЕНИЯ И ВИЗУАЛЬНОЙ СИГНАЛИЗАЦИИ, Д...</td>\n",
       "      <td>03.09.2021</td>\n",
       "      <td>приборы освещения визуальной сигнализации м ni...</td>\n",
       "      <td>85</td>\n",
       "      <td>12</td>\n",
       "    </tr>\n",
       "    <tr>\n",
       "      <th>9996</th>\n",
       "      <td>8512</td>\n",
       "      <td>ПРИБОРЫ ОСВЕЩЕНИЯ И ВИЗУАЛЬНОЙ СИГНАЛИЗАЦИИ, Д...</td>\n",
       "      <td>03.09.2021</td>\n",
       "      <td>приборы освещения визуальной сигнализации м ni...</td>\n",
       "      <td>85</td>\n",
       "      <td>12</td>\n",
       "    </tr>\n",
       "    <tr>\n",
       "      <th>9997</th>\n",
       "      <td>8512</td>\n",
       "      <td>ПРИБОРЫ ОСВЕЩЕНИЯ И ВИЗУАЛЬНОЙ СИГНАЛИЗАЦИИ, Д...</td>\n",
       "      <td>03.09.2021</td>\n",
       "      <td>приборы освещения визуальной сигнализации м ni...</td>\n",
       "      <td>85</td>\n",
       "      <td>12</td>\n",
       "    </tr>\n",
       "    <tr>\n",
       "      <th>9998</th>\n",
       "      <td>8512</td>\n",
       "      <td>ПРИБОРЫ ОСВЕЩЕНИЯ И ВИЗУАЛЬНОЙ СИГНАЛИЗАЦИИ, Д...</td>\n",
       "      <td>03.09.2021</td>\n",
       "      <td>приборы освещения визуальной сигнализации м ni...</td>\n",
       "      <td>85</td>\n",
       "      <td>12</td>\n",
       "    </tr>\n",
       "    <tr>\n",
       "      <th>9999</th>\n",
       "      <td>8512</td>\n",
       "      <td>ЧАСТИ ПРИБОРОВ ОСВЕЩЕНИЯ, ВИЗУАЛЬНОЙ И ЗВУКОВО...</td>\n",
       "      <td>03.09.2021</td>\n",
       "      <td>части приборов освещения визуальной звуковой с...</td>\n",
       "      <td>85</td>\n",
       "      <td>12</td>\n",
       "    </tr>\n",
       "  </tbody>\n",
       "</table>\n",
       "<p>10000 rows × 6 columns</p>\n",
       "</div>"
      ],
      "text/plain": [
       "      TNVED                                           OPISANIE        DATA  \\\n",
       "0      9025  ЧАСТИ И ПРИНАДЛЕЖНОСТИ АППАРАТУРЫ ПОЗ.9025, НЕ...  07.09.2021   \n",
       "1      8504  ТРАНСФОРМАТОРЫ, МОЩНОСТЬЮ БОЛЕЕ 1 КВА, НО НЕ Б...  07.09.2021   \n",
       "2      8481  КЛАПАНЫ ЗАПОРНЫЕ ИЗ СТАЛИ, НЕ ВОЕННОГО НАЗНАЧЕ...  07.09.2021   \n",
       "3      8531  УСТРОЙСТВА СИГНАЛИЗАЦИОННЫЕ ОХРАННЫЕ И УСТРОЙС...  07.09.2021   \n",
       "4      3402  ВЕЩЕСТВА ПОВЕРХНОСТНО-АКТИВНЫЕ ОРГАНИЧЕСКИЕ, А...  02.09.2021   \n",
       "...     ...                                                ...         ...   \n",
       "9995   8512  ПРИБОРЫ ОСВЕЩЕНИЯ И ВИЗУАЛЬНОЙ СИГНАЛИЗАЦИИ, Д...  03.09.2021   \n",
       "9996   8512  ПРИБОРЫ ОСВЕЩЕНИЯ И ВИЗУАЛЬНОЙ СИГНАЛИЗАЦИИ, Д...  03.09.2021   \n",
       "9997   8512  ПРИБОРЫ ОСВЕЩЕНИЯ И ВИЗУАЛЬНОЙ СИГНАЛИЗАЦИИ, Д...  03.09.2021   \n",
       "9998   8512  ПРИБОРЫ ОСВЕЩЕНИЯ И ВИЗУАЛЬНОЙ СИГНАЛИЗАЦИИ, Д...  03.09.2021   \n",
       "9999   8512  ЧАСТИ ПРИБОРОВ ОСВЕЩЕНИЯ, ВИЗУАЛЬНОЙ И ЗВУКОВО...  03.09.2021   \n",
       "\n",
       "                                             Post_clean  TNVED2  TNVED4  \n",
       "0     части принадлежности аппаратуры поз 9025 военн...      90      25  \n",
       "1     трансформаторы мощностью 1 ква 16 ква лом элек...      85       4  \n",
       "2            клапаны запорные стали военного назначения      84      81  \n",
       "3     устройства сигнализационные охранные устройств...      85      31  \n",
       "4     вещества поверхностно активные органические ан...      34       2  \n",
       "...                                                 ...     ...     ...  \n",
       "9995  приборы освещения визуальной сигнализации м ni...      85      12  \n",
       "9996  приборы освещения визуальной сигнализации м ni...      85      12  \n",
       "9997  приборы освещения визуальной сигнализации м ni...      85      12  \n",
       "9998  приборы освещения визуальной сигнализации м ni...      85      12  \n",
       "9999  части приборов освещения визуальной звуковой с...      85      12  \n",
       "\n",
       "[10000 rows x 6 columns]"
      ]
     },
     "execution_count": 12,
     "metadata": {},
     "output_type": "execute_result"
    }
   ],
   "source": [
    "data"
   ]
  },
  {
   "cell_type": "code",
   "execution_count": 13,
   "metadata": {},
   "outputs": [],
   "source": [
    "TwoClasses = data['TNVED2'].unique()"
   ]
  },
  {
   "cell_type": "code",
   "execution_count": 103,
   "metadata": {},
   "outputs": [
    {
     "name": "stderr",
     "output_type": "stream",
     "text": [
      "C:\\Users\\timka\\anaconda3\\lib\\site-packages\\sklearn\\decomposition\\_truncated_svd.py:194: RuntimeWarning: invalid value encountered in true_divide\n",
      "  self.explained_variance_ratio_ = exp_var / full_var\n",
      "C:\\Users\\timka\\anaconda3\\lib\\site-packages\\sklearn\\decomposition\\_truncated_svd.py:194: RuntimeWarning: invalid value encountered in true_divide\n",
      "  self.explained_variance_ratio_ = exp_var / full_var\n",
      "C:\\Users\\timka\\anaconda3\\lib\\site-packages\\sklearn\\decomposition\\_truncated_svd.py:194: RuntimeWarning: invalid value encountered in true_divide\n",
      "  self.explained_variance_ratio_ = exp_var / full_var\n",
      "C:\\Users\\timka\\anaconda3\\lib\\site-packages\\sklearn\\decomposition\\_truncated_svd.py:194: RuntimeWarning: invalid value encountered in true_divide\n",
      "  self.explained_variance_ratio_ = exp_var / full_var\n",
      "C:\\Users\\timka\\anaconda3\\lib\\site-packages\\sklearn\\decomposition\\_truncated_svd.py:194: RuntimeWarning: invalid value encountered in true_divide\n",
      "  self.explained_variance_ratio_ = exp_var / full_var\n",
      "C:\\Users\\timka\\anaconda3\\lib\\site-packages\\sklearn\\decomposition\\_truncated_svd.py:194: RuntimeWarning: invalid value encountered in true_divide\n",
      "  self.explained_variance_ratio_ = exp_var / full_var\n",
      "C:\\Users\\timka\\anaconda3\\lib\\site-packages\\sklearn\\decomposition\\_truncated_svd.py:194: RuntimeWarning: invalid value encountered in true_divide\n",
      "  self.explained_variance_ratio_ = exp_var / full_var\n",
      "C:\\Users\\timka\\anaconda3\\lib\\site-packages\\sklearn\\decomposition\\_truncated_svd.py:194: RuntimeWarning: invalid value encountered in true_divide\n",
      "  self.explained_variance_ratio_ = exp_var / full_var\n"
     ]
    }
   ],
   "source": [
    "import pymorphy2\n",
    "Errors = []\n",
    "morph = pymorphy2.MorphAnalyzer(lang='ru')\n",
    "for TNVED in TwoClasses:\n",
    "   try:\n",
    "    df = data[data['TNVED2']==TNVED]\n",
    "    questions_response = df['Post_clean'].tolist()\n",
    "    answer_response = df['TNVED4'].tolist()\n",
    "    questions = []\n",
    "    answer = []\n",
    "    transform=0\n",
    "    for i in range(len(questions_response)):\n",
    "          if questions_response[i]>\"\":\n",
    "           phrases=questions_response[i]\n",
    "   \n",
    "            # разбираем вопрос на слова\n",
    "           words=phrases.split(' ')\n",
    "           phrase=\"\"\n",
    "           for word in words:\n",
    "                word = morph.parse(word)[0].normal_form  \n",
    "                phrase = phrase + word + \" \"\n",
    "                # Если длинна полученной фразы больше 0 добавляем ей в массив вопросов и массив кодов ответов\n",
    "           if (len(phrase)>0):\n",
    "             questions.append(phrase.strip())\n",
    "             transform=transform+1\n",
    "             answer.append(answer_response[i])\n",
    "    vectorizer_q = TfidfVectorizer()\n",
    "    vectorizer_q.fit(questions)\n",
    "    matrix_big_q = vectorizer_q.transform(questions)\n",
    "    if transform>200:\n",
    "              transform=200\n",
    "    svd_q = TruncatedSVD(n_components=transform)\n",
    "    svd_q.fit(matrix_big_q)\n",
    "    matrix_small_q = svd_q.transform(matrix_big_q)\n",
    "    ns_q = NeighborSampler()\n",
    "    ns_q.fit(matrix_small_q, answer) \n",
    "    pipe_q = make_pipeline(vectorizer_q, svd_q, ns_q)\n",
    "    pickle.dump(pipe_q, open('models/TNVED'+str(TNVED)+'.pkl', 'wb'),protocol=4)\n",
    "   except:\n",
    "    Errors.append(TNVED)"
   ]
  },
  {
   "cell_type": "code",
   "execution_count": 106,
   "metadata": {},
   "outputs": [],
   "source": [
    "err2 = []\n",
    "tr = []\n",
    "ss=0\n",
    "for TNVED in TwoClasses:\n",
    " try:\n",
    "  model = pickle.load(open('models/TNVED'+str(TNVED)+'.pkl', 'rb'))\n",
    "  df = data[data['TNVED2']==TNVED]\n",
    "  s = model.predict([df.iloc[0]['Post_clean']])\n",
    "  ss+=1\n",
    "  if s[0][0]==df.iloc[j]['TNVED4']:\n",
    "        tr.append(True)\n",
    " except:\n",
    "  err2.append(TNVED)"
   ]
  }
 ],
 "metadata": {
  "kernelspec": {
   "display_name": "Python 3",
   "language": "python",
   "name": "python3"
  },
  "language_info": {
   "codemirror_mode": {
    "name": "ipython",
    "version": 3
   },
   "file_extension": ".py",
   "mimetype": "text/x-python",
   "name": "python",
   "nbconvert_exporter": "python",
   "pygments_lexer": "ipython3",
   "version": "3.7.6"
  }
 },
 "nbformat": 4,
 "nbformat_minor": 4
}
