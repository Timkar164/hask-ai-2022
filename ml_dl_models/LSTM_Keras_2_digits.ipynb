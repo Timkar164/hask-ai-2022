{
 "cells": [
  {
   "cell_type": "code",
   "execution_count": 1,
   "metadata": {},
   "outputs": [],
   "source": [
    "import keras\n",
    "import pandas as pd\n",
    "import numpy as np"
   ]
  },
  {
   "cell_type": "markdown",
   "metadata": {},
   "source": [
    "Читаем датасет с очищенными строками"
   ]
  },
  {
   "cell_type": "code",
   "execution_count": 12,
   "metadata": {},
   "outputs": [],
   "source": [
    "df = pd.read_csv('dataset.csv')"
   ]
  },
  {
   "cell_type": "code",
   "execution_count": null,
   "metadata": {},
   "outputs": [],
   "source": [
    "\"\"\"\n",
    "import re\n",
    "import pymorphy2\n",
    "\n",
    "ma = pymorphy2.MorphAnalyzer()\n",
    "\n",
    "def clean_text(text):\n",
    "    try:\n",
    "     text = text.replace(\"\\\\\", \" \").replace(u\"╚\", \" \").replace(u\"╩\", \" \")\n",
    "     text = text.lower()\n",
    "     text = re.sub('\\-\\s\\r\\n\\s{1,}|\\-\\s\\r\\n|\\r\\n', '', text) #deleting newlines and line-breaks\n",
    "     text = re.sub('[.,:;_%©?*,!@#$%^&()\\d]|[+=]|[[]|[]]|[/]|\"|\\s{2,}|-', ' ', text) #deleting symbols  \n",
    "     text = \" \".join(ma.parse(str(word))[0].normal_form for word in text.split())\n",
    "     text = ' '.join(word for word in text.split() if len(word)>3)\n",
    "     text = text.encode(\"utf-8\")\n",
    "    except:\n",
    "     print(text)\n",
    "\n",
    "    return text\n",
    "\n",
    "df['Description'] = df.apply(lambda x: clean_text(x['Post_clean']), axis=1)\n",
    "\"\"\""
   ]
  },
  {
   "cell_type": "code",
   "execution_count": 13,
   "metadata": {},
   "outputs": [
    {
     "data": {
      "text/html": [
       "<div>\n",
       "<style scoped>\n",
       "    .dataframe tbody tr th:only-of-type {\n",
       "        vertical-align: middle;\n",
       "    }\n",
       "\n",
       "    .dataframe tbody tr th {\n",
       "        vertical-align: top;\n",
       "    }\n",
       "\n",
       "    .dataframe thead th {\n",
       "        text-align: right;\n",
       "    }\n",
       "</style>\n",
       "<table border=\"1\" class=\"dataframe\">\n",
       "  <thead>\n",
       "    <tr style=\"text-align: right;\">\n",
       "      <th></th>\n",
       "      <th>Unnamed: 0</th>\n",
       "      <th>OPISANIE_CLEAN</th>\n",
       "      <th>TNVED</th>\n",
       "      <th>TNVED2</th>\n",
       "    </tr>\n",
       "  </thead>\n",
       "  <tbody>\n",
       "    <tr>\n",
       "      <th>0</th>\n",
       "      <td>0</td>\n",
       "      <td>части принадлежности аппаратуры поз 9025 военн...</td>\n",
       "      <td>9025</td>\n",
       "      <td>90</td>\n",
       "    </tr>\n",
       "    <tr>\n",
       "      <th>1</th>\n",
       "      <td>1</td>\n",
       "      <td>трансформаторы мощностью 1 ква 16 ква лом элек...</td>\n",
       "      <td>8504</td>\n",
       "      <td>85</td>\n",
       "    </tr>\n",
       "    <tr>\n",
       "      <th>2</th>\n",
       "      <td>2</td>\n",
       "      <td>клапаны запорные стали военного назначения</td>\n",
       "      <td>8481</td>\n",
       "      <td>84</td>\n",
       "    </tr>\n",
       "    <tr>\n",
       "      <th>3</th>\n",
       "      <td>3</td>\n",
       "      <td>устройства сигнализационные охранные устройств...</td>\n",
       "      <td>8531</td>\n",
       "      <td>85</td>\n",
       "    </tr>\n",
       "    <tr>\n",
       "      <th>4</th>\n",
       "      <td>4</td>\n",
       "      <td>вещества поверхностно активные органические ан...</td>\n",
       "      <td>3402</td>\n",
       "      <td>34</td>\n",
       "    </tr>\n",
       "    <tr>\n",
       "      <th>...</th>\n",
       "      <td>...</td>\n",
       "      <td>...</td>\n",
       "      <td>...</td>\n",
       "      <td>...</td>\n",
       "    </tr>\n",
       "    <tr>\n",
       "      <th>4177894</th>\n",
       "      <td>4177894</td>\n",
       "      <td>минеральное моторное масло всесезонное дизельн...</td>\n",
       "      <td>2710</td>\n",
       "      <td>27</td>\n",
       "    </tr>\n",
       "    <tr>\n",
       "      <th>4177895</th>\n",
       "      <td>4177895</td>\n",
       "      <td>синтетическое моторное масло всесезонное дизел...</td>\n",
       "      <td>3403</td>\n",
       "      <td>34</td>\n",
       "    </tr>\n",
       "    <tr>\n",
       "      <th>4177896</th>\n",
       "      <td>4177896</td>\n",
       "      <td>синтетическое моторное масло всесезонное дизел...</td>\n",
       "      <td>3403</td>\n",
       "      <td>34</td>\n",
       "    </tr>\n",
       "    <tr>\n",
       "      <th>4177897</th>\n",
       "      <td>4177897</td>\n",
       "      <td>масло трансмиссионное синтетической основе сод...</td>\n",
       "      <td>3403</td>\n",
       "      <td>34</td>\n",
       "    </tr>\n",
       "    <tr>\n",
       "      <th>4177898</th>\n",
       "      <td>4177898</td>\n",
       "      <td>масло трансмиссионное синтетической основе сод...</td>\n",
       "      <td>3403</td>\n",
       "      <td>34</td>\n",
       "    </tr>\n",
       "  </tbody>\n",
       "</table>\n",
       "<p>4177899 rows × 4 columns</p>\n",
       "</div>"
      ],
      "text/plain": [
       "         Unnamed: 0                                     OPISANIE_CLEAN  TNVED  \\\n",
       "0                 0  части принадлежности аппаратуры поз 9025 военн...   9025   \n",
       "1                 1  трансформаторы мощностью 1 ква 16 ква лом элек...   8504   \n",
       "2                 2         клапаны запорные стали военного назначения   8481   \n",
       "3                 3  устройства сигнализационные охранные устройств...   8531   \n",
       "4                 4  вещества поверхностно активные органические ан...   3402   \n",
       "...             ...                                                ...    ...   \n",
       "4177894     4177894  минеральное моторное масло всесезонное дизельн...   2710   \n",
       "4177895     4177895  синтетическое моторное масло всесезонное дизел...   3403   \n",
       "4177896     4177896  синтетическое моторное масло всесезонное дизел...   3403   \n",
       "4177897     4177897  масло трансмиссионное синтетической основе сод...   3403   \n",
       "4177898     4177898  масло трансмиссионное синтетической основе сод...   3403   \n",
       "\n",
       "         TNVED2  \n",
       "0            90  \n",
       "1            85  \n",
       "2            84  \n",
       "3            85  \n",
       "4            34  \n",
       "...         ...  \n",
       "4177894      27  \n",
       "4177895      34  \n",
       "4177896      34  \n",
       "4177897      34  \n",
       "4177898      34  \n",
       "\n",
       "[4177899 rows x 4 columns]"
      ]
     },
     "execution_count": 13,
     "metadata": {},
     "output_type": "execute_result"
    }
   ],
   "source": [
    "df"
   ]
  },
  {
   "cell_type": "markdown",
   "metadata": {},
   "source": [
    "Считаем количество разных классов - групп товаров"
   ]
  },
  {
   "cell_type": "code",
   "execution_count": 14,
   "metadata": {},
   "outputs": [
    {
     "name": "stdout",
     "output_type": "stream",
     "text": [
      "Всего категорий: 97\n"
     ]
    }
   ],
   "source": [
    "categories = {}\n",
    "for key,value in enumerate(df['TNVED2'].unique()):\n",
    "    categories[value] = key + 1\n",
    "\n",
    "# Запишем в новую колонку числовое обозначение категории \n",
    "df['category_code'] = df['TNVED2'].map(categories)\n",
    "\n",
    "total_categories = len(df['TNVED2'].unique()) + 1\n",
    "print('Всего категорий: {}'.format(total_categories))"
   ]
  },
  {
   "cell_type": "code",
   "execution_count": 15,
   "metadata": {},
   "outputs": [],
   "source": [
    "df.to_pickle('dataframe_ver_1.pkl')"
   ]
  },
  {
   "cell_type": "code",
   "execution_count": 5,
   "metadata": {},
   "outputs": [],
   "source": [
    "df = pd.read_pickle('dataframe_ver_1.pkl')"
   ]
  },
  {
   "cell_type": "markdown",
   "metadata": {},
   "source": [
    "Забираем 30% набора (можно меньше, чтобы протестировать обучение быстрей)"
   ]
  },
  {
   "cell_type": "code",
   "execution_count": 16,
   "metadata": {},
   "outputs": [],
   "source": [
    "df = df.sample(frac=.3).reset_index(drop=True)"
   ]
  },
  {
   "cell_type": "code",
   "execution_count": 17,
   "metadata": {},
   "outputs": [
    {
     "data": {
      "text/html": [
       "<div>\n",
       "<style scoped>\n",
       "    .dataframe tbody tr th:only-of-type {\n",
       "        vertical-align: middle;\n",
       "    }\n",
       "\n",
       "    .dataframe tbody tr th {\n",
       "        vertical-align: top;\n",
       "    }\n",
       "\n",
       "    .dataframe thead th {\n",
       "        text-align: right;\n",
       "    }\n",
       "</style>\n",
       "<table border=\"1\" class=\"dataframe\">\n",
       "  <thead>\n",
       "    <tr style=\"text-align: right;\">\n",
       "      <th></th>\n",
       "      <th>Unnamed: 0</th>\n",
       "      <th>OPISANIE_CLEAN</th>\n",
       "      <th>TNVED</th>\n",
       "      <th>TNVED2</th>\n",
       "      <th>category_code</th>\n",
       "    </tr>\n",
       "  </thead>\n",
       "  <tbody>\n",
       "    <tr>\n",
       "      <th>0</th>\n",
       "      <td>951164</td>\n",
       "      <td>брюки швейные мужские хлопчатобумажной пряжи и...</td>\n",
       "      <td>6203</td>\n",
       "      <td>62</td>\n",
       "      <td>39</td>\n",
       "    </tr>\n",
       "    <tr>\n",
       "      <th>1</th>\n",
       "      <td>3292379</td>\n",
       "      <td>детская одежда принадлежности детской одежде к...</td>\n",
       "      <td>6209</td>\n",
       "      <td>62</td>\n",
       "      <td>39</td>\n",
       "    </tr>\n",
       "    <tr>\n",
       "      <th>2</th>\n",
       "      <td>2854083</td>\n",
       "      <td>щипцы завивки ресниц</td>\n",
       "      <td>9615</td>\n",
       "      <td>96</td>\n",
       "      <td>19</td>\n",
       "    </tr>\n",
       "    <tr>\n",
       "      <th>3</th>\n",
       "      <td>2024181</td>\n",
       "      <td>оборудование санитарно техническое части черны...</td>\n",
       "      <td>7324</td>\n",
       "      <td>73</td>\n",
       "      <td>5</td>\n",
       "    </tr>\n",
       "    <tr>\n",
       "      <th>4</th>\n",
       "      <td>2152850</td>\n",
       "      <td>грибы эноки свежие выращено кнр окпд2 01 13 80...</td>\n",
       "      <td>709</td>\n",
       "      <td>7</td>\n",
       "      <td>25</td>\n",
       "    </tr>\n",
       "    <tr>\n",
       "      <th>...</th>\n",
       "      <td>...</td>\n",
       "      <td>...</td>\n",
       "      <td>...</td>\n",
       "      <td>...</td>\n",
       "      <td>...</td>\n",
       "    </tr>\n",
       "    <tr>\n",
       "      <th>1253365</th>\n",
       "      <td>2320165</td>\n",
       "      <td>4 фитинги пластмассы пластиковых трубок гражда...</td>\n",
       "      <td>3917</td>\n",
       "      <td>39</td>\n",
       "      <td>15</td>\n",
       "    </tr>\n",
       "    <tr>\n",
       "      <th>1253366</th>\n",
       "      <td>3901384</td>\n",
       "      <td>трусы взрослых женские трикотажные машинного в...</td>\n",
       "      <td>6108</td>\n",
       "      <td>61</td>\n",
       "      <td>13</td>\n",
       "    </tr>\n",
       "    <tr>\n",
       "      <th>1253367</th>\n",
       "      <td>4072304</td>\n",
       "      <td>пальто швейные текстильные нетрикотажные женск...</td>\n",
       "      <td>6202</td>\n",
       "      <td>62</td>\n",
       "      <td>39</td>\n",
       "    </tr>\n",
       "    <tr>\n",
       "      <th>1253368</th>\n",
       "      <td>1685831</td>\n",
       "      <td>изделия трикотажные верхние второго слоя брюки...</td>\n",
       "      <td>6103</td>\n",
       "      <td>61</td>\n",
       "      <td>13</td>\n",
       "    </tr>\n",
       "    <tr>\n",
       "      <th>1253369</th>\n",
       "      <td>590047</td>\n",
       "      <td>гидравлическое оборудование линейного действия...</td>\n",
       "      <td>8412</td>\n",
       "      <td>84</td>\n",
       "      <td>3</td>\n",
       "    </tr>\n",
       "  </tbody>\n",
       "</table>\n",
       "<p>1253370 rows × 5 columns</p>\n",
       "</div>"
      ],
      "text/plain": [
       "         Unnamed: 0                                     OPISANIE_CLEAN  TNVED  \\\n",
       "0            951164  брюки швейные мужские хлопчатобумажной пряжи и...   6203   \n",
       "1           3292379  детская одежда принадлежности детской одежде к...   6209   \n",
       "2           2854083                               щипцы завивки ресниц   9615   \n",
       "3           2024181  оборудование санитарно техническое части черны...   7324   \n",
       "4           2152850  грибы эноки свежие выращено кнр окпд2 01 13 80...    709   \n",
       "...             ...                                                ...    ...   \n",
       "1253365     2320165  4 фитинги пластмассы пластиковых трубок гражда...   3917   \n",
       "1253366     3901384  трусы взрослых женские трикотажные машинного в...   6108   \n",
       "1253367     4072304  пальто швейные текстильные нетрикотажные женск...   6202   \n",
       "1253368     1685831  изделия трикотажные верхние второго слоя брюки...   6103   \n",
       "1253369      590047  гидравлическое оборудование линейного действия...   8412   \n",
       "\n",
       "         TNVED2  category_code  \n",
       "0            62             39  \n",
       "1            62             39  \n",
       "2            96             19  \n",
       "3            73              5  \n",
       "4             7             25  \n",
       "...         ...            ...  \n",
       "1253365      39             15  \n",
       "1253366      61             13  \n",
       "1253367      62             39  \n",
       "1253368      61             13  \n",
       "1253369      84              3  \n",
       "\n",
       "[1253370 rows x 5 columns]"
      ]
     },
     "metadata": {},
     "output_type": "display_data"
    }
   ],
   "source": [
    "display(df)"
   ]
  },
  {
   "cell_type": "markdown",
   "metadata": {},
   "source": [
    "Удаляем битые строки"
   ]
  },
  {
   "cell_type": "code",
   "execution_count": 18,
   "metadata": {},
   "outputs": [
    {
     "data": {
      "text/html": [
       "<div>\n",
       "<style scoped>\n",
       "    .dataframe tbody tr th:only-of-type {\n",
       "        vertical-align: middle;\n",
       "    }\n",
       "\n",
       "    .dataframe tbody tr th {\n",
       "        vertical-align: top;\n",
       "    }\n",
       "\n",
       "    .dataframe thead th {\n",
       "        text-align: right;\n",
       "    }\n",
       "</style>\n",
       "<table border=\"1\" class=\"dataframe\">\n",
       "  <thead>\n",
       "    <tr style=\"text-align: right;\">\n",
       "      <th></th>\n",
       "      <th>Unnamed: 0</th>\n",
       "      <th>OPISANIE_CLEAN</th>\n",
       "      <th>TNVED</th>\n",
       "      <th>TNVED2</th>\n",
       "      <th>category_code</th>\n",
       "    </tr>\n",
       "  </thead>\n",
       "  <tbody>\n",
       "    <tr>\n",
       "      <th>0</th>\n",
       "      <td>951164</td>\n",
       "      <td>брюки швейные мужские хлопчатобумажной пряжи и...</td>\n",
       "      <td>6203</td>\n",
       "      <td>62</td>\n",
       "      <td>39</td>\n",
       "    </tr>\n",
       "    <tr>\n",
       "      <th>1</th>\n",
       "      <td>3292379</td>\n",
       "      <td>детская одежда принадлежности детской одежде к...</td>\n",
       "      <td>6209</td>\n",
       "      <td>62</td>\n",
       "      <td>39</td>\n",
       "    </tr>\n",
       "    <tr>\n",
       "      <th>2</th>\n",
       "      <td>2854083</td>\n",
       "      <td>щипцы завивки ресниц</td>\n",
       "      <td>9615</td>\n",
       "      <td>96</td>\n",
       "      <td>19</td>\n",
       "    </tr>\n",
       "    <tr>\n",
       "      <th>3</th>\n",
       "      <td>2024181</td>\n",
       "      <td>оборудование санитарно техническое части черны...</td>\n",
       "      <td>7324</td>\n",
       "      <td>73</td>\n",
       "      <td>5</td>\n",
       "    </tr>\n",
       "    <tr>\n",
       "      <th>4</th>\n",
       "      <td>2152850</td>\n",
       "      <td>грибы эноки свежие выращено кнр окпд2 01 13 80...</td>\n",
       "      <td>709</td>\n",
       "      <td>7</td>\n",
       "      <td>25</td>\n",
       "    </tr>\n",
       "    <tr>\n",
       "      <th>...</th>\n",
       "      <td>...</td>\n",
       "      <td>...</td>\n",
       "      <td>...</td>\n",
       "      <td>...</td>\n",
       "      <td>...</td>\n",
       "    </tr>\n",
       "    <tr>\n",
       "      <th>1253365</th>\n",
       "      <td>2320165</td>\n",
       "      <td>4 фитинги пластмассы пластиковых трубок гражда...</td>\n",
       "      <td>3917</td>\n",
       "      <td>39</td>\n",
       "      <td>15</td>\n",
       "    </tr>\n",
       "    <tr>\n",
       "      <th>1253366</th>\n",
       "      <td>3901384</td>\n",
       "      <td>трусы взрослых женские трикотажные машинного в...</td>\n",
       "      <td>6108</td>\n",
       "      <td>61</td>\n",
       "      <td>13</td>\n",
       "    </tr>\n",
       "    <tr>\n",
       "      <th>1253367</th>\n",
       "      <td>4072304</td>\n",
       "      <td>пальто швейные текстильные нетрикотажные женск...</td>\n",
       "      <td>6202</td>\n",
       "      <td>62</td>\n",
       "      <td>39</td>\n",
       "    </tr>\n",
       "    <tr>\n",
       "      <th>1253368</th>\n",
       "      <td>1685831</td>\n",
       "      <td>изделия трикотажные верхние второго слоя брюки...</td>\n",
       "      <td>6103</td>\n",
       "      <td>61</td>\n",
       "      <td>13</td>\n",
       "    </tr>\n",
       "    <tr>\n",
       "      <th>1253369</th>\n",
       "      <td>590047</td>\n",
       "      <td>гидравлическое оборудование линейного действия...</td>\n",
       "      <td>8412</td>\n",
       "      <td>84</td>\n",
       "      <td>3</td>\n",
       "    </tr>\n",
       "  </tbody>\n",
       "</table>\n",
       "<p>1253361 rows × 5 columns</p>\n",
       "</div>"
      ],
      "text/plain": [
       "         Unnamed: 0                                     OPISANIE_CLEAN  TNVED  \\\n",
       "0            951164  брюки швейные мужские хлопчатобумажной пряжи и...   6203   \n",
       "1           3292379  детская одежда принадлежности детской одежде к...   6209   \n",
       "2           2854083                               щипцы завивки ресниц   9615   \n",
       "3           2024181  оборудование санитарно техническое части черны...   7324   \n",
       "4           2152850  грибы эноки свежие выращено кнр окпд2 01 13 80...    709   \n",
       "...             ...                                                ...    ...   \n",
       "1253365     2320165  4 фитинги пластмассы пластиковых трубок гражда...   3917   \n",
       "1253366     3901384  трусы взрослых женские трикотажные машинного в...   6108   \n",
       "1253367     4072304  пальто швейные текстильные нетрикотажные женск...   6202   \n",
       "1253368     1685831  изделия трикотажные верхние второго слоя брюки...   6103   \n",
       "1253369      590047  гидравлическое оборудование линейного действия...   8412   \n",
       "\n",
       "         TNVED2  category_code  \n",
       "0            62             39  \n",
       "1            62             39  \n",
       "2            96             19  \n",
       "3            73              5  \n",
       "4             7             25  \n",
       "...         ...            ...  \n",
       "1253365      39             15  \n",
       "1253366      61             13  \n",
       "1253367      62             39  \n",
       "1253368      61             13  \n",
       "1253369      84              3  \n",
       "\n",
       "[1253361 rows x 5 columns]"
      ]
     },
     "metadata": {},
     "output_type": "display_data"
    }
   ],
   "source": [
    "df = df[df['OPISANIE_CLEAN'].notna()]\n",
    "display(df)"
   ]
  },
  {
   "cell_type": "markdown",
   "metadata": {},
   "source": [
    "Генерим train и test"
   ]
  },
  {
   "cell_type": "code",
   "execution_count": 19,
   "metadata": {},
   "outputs": [
    {
     "data": {
      "text/plain": [
       "0          брюки швейные мужские хлопчатобумажной пряжи и...\n",
       "1          детская одежда принадлежности детской одежде к...\n",
       "2                                       щипцы завивки ресниц\n",
       "3          оборудование санитарно техническое части черны...\n",
       "4          грибы эноки свежие выращено кнр окпд2 01 13 80...\n",
       "                                 ...                        \n",
       "1253365    4 фитинги пластмассы пластиковых трубок гражда...\n",
       "1253366    трусы взрослых женские трикотажные машинного в...\n",
       "1253367    пальто швейные текстильные нетрикотажные женск...\n",
       "1253368    изделия трикотажные верхние второго слоя брюки...\n",
       "1253369    гидравлическое оборудование линейного действия...\n",
       "Name: OPISANIE_CLEAN, Length: 1253361, dtype: object"
      ]
     },
     "metadata": {},
     "output_type": "display_data"
    },
    {
     "data": {
      "text/plain": [
       "0          62\n",
       "1          62\n",
       "2          96\n",
       "3          73\n",
       "4           7\n",
       "           ..\n",
       "1253365    39\n",
       "1253366    61\n",
       "1253367    62\n",
       "1253368    61\n",
       "1253369    84\n",
       "Name: TNVED2, Length: 1253361, dtype: int64"
      ]
     },
     "metadata": {},
     "output_type": "display_data"
    }
   ],
   "source": [
    "descriptions = df['OPISANIE_CLEAN']\n",
    "categories = df[u'TNVED2']\n",
    "display(descriptions)\n",
    "display(categories)"
   ]
  },
  {
   "cell_type": "code",
   "execution_count": 20,
   "metadata": {},
   "outputs": [
    {
     "name": "stdout",
     "output_type": "stream",
     "text": [
      "Максимальная длина описания: 69 слов\n"
     ]
    }
   ],
   "source": [
    "# Посчитаем максимальную длинну текста описания в словах\n",
    "max_words = 0\n",
    "for desc in descriptions:\n",
    "    words = len(desc.split())\n",
    "    if words > max_words:\n",
    "        max_words = words\n",
    "print('Максимальная длина описания: {} слов'.format(max_words))"
   ]
  },
  {
   "cell_type": "code",
   "execution_count": 21,
   "metadata": {},
   "outputs": [],
   "source": [
    "maxSequenceLength = 20"
   ]
  },
  {
   "cell_type": "markdown",
   "metadata": {},
   "source": [
    "Обучаем токенизатор текста на наших описаниях"
   ]
  },
  {
   "cell_type": "code",
   "execution_count": 22,
   "metadata": {},
   "outputs": [],
   "source": [
    "from keras.preprocessing.text import Tokenizer\n",
    "\n",
    "# создаем единый словарь (слово -> число) для преобразования\n",
    "tokenizer = Tokenizer()\n",
    "tokenizer.fit_on_texts(descriptions.tolist())\n",
    "\n",
    "# Преобразуем все описания в числовые последовательности, заменяя слова на числа по словарю.\n",
    "textSequences = tokenizer.texts_to_sequences(descriptions.tolist())"
   ]
  },
  {
   "cell_type": "code",
   "execution_count": 23,
   "metadata": {},
   "outputs": [],
   "source": [
    "def load_data_from_arrays(strings, labels, train_test_split=0.9):\n",
    "    data_size = len(strings)\n",
    "    test_size = int(data_size - round(data_size * train_test_split))\n",
    "    print(\"Test size: {}\".format(test_size))\n",
    "    \n",
    "    print(\"\\nTraining set:\")\n",
    "    x_train = strings[test_size:]\n",
    "    print(\"\\t - x_train: {}\".format(len(x_train)))\n",
    "    y_train = labels[test_size:]\n",
    "    print(\"\\t - y_train: {}\".format(len(y_train)))\n",
    "    \n",
    "    print(\"\\nTesting set:\")\n",
    "    x_test = strings[:test_size]\n",
    "    print(\"\\t - x_test: {}\".format(len(x_test)))\n",
    "    y_test = labels[:test_size]\n",
    "    print(\"\\t - y_test: {}\".format(len(y_test)))\n",
    "\n",
    "    return x_train, y_train, x_test, y_test"
   ]
  },
  {
   "cell_type": "code",
   "execution_count": 24,
   "metadata": {},
   "outputs": [
    {
     "name": "stdout",
     "output_type": "stream",
     "text": [
      "Test size: 250672\n",
      "\n",
      "Training set:\n",
      "\t - x_train: 1002689\n",
      "\t - y_train: 1002689\n",
      "\n",
      "Testing set:\n",
      "\t - x_test: 250672\n",
      "\t - y_test: 250672\n",
      "В словаре 343247 слов\n"
     ]
    }
   ],
   "source": [
    "X_train, y_train, X_test, y_test = load_data_from_arrays(textSequences, categories, train_test_split=0.8)\n",
    "total_words = len(tokenizer.word_index)\n",
    "print('В словаре {} слов'.format(total_words))"
   ]
  },
  {
   "cell_type": "code",
   "execution_count": 25,
   "metadata": {},
   "outputs": [
    {
     "name": "stdout",
     "output_type": "stream",
     "text": [
      "Преобразуем описания в векторы чисел...\n"
     ]
    }
   ],
   "source": [
    "num_words = 1000\n",
    "\n",
    "print(u'Преобразуем описания в векторы чисел...')\n",
    "tokenizer = Tokenizer(num_words=num_words)\n"
   ]
  },
  {
   "cell_type": "code",
   "execution_count": 38,
   "metadata": {},
   "outputs": [
    {
     "name": "stdout",
     "output_type": "stream",
     "text": [
      "Размерность X_train: (334229, 1000)\n",
      "Размерность X_test: (83557, 1000)\n",
      "Преобразуем категории в матрицу двоичных чисел (для использования categorical_crossentropy)\n",
      "y_train shape: (334229, 98)\n",
      "y_test shape: (83557, 98)\n"
     ]
    }
   ],
   "source": [
    "from keras.utils import np_utils\n",
    "\n",
    "num_classes = 98\n",
    "X_train2 = tokenizer.sequences_to_matrix(X_train, mode='binary')\n",
    "X_test2 = tokenizer.sequences_to_matrix(X_test, mode='binary')\n",
    "print('Размерность X_train:', X_train2.shape)\n",
    "print('Размерность X_test:', X_test2.shape)\n",
    "\n",
    "print(u'Преобразуем категории в матрицу двоичных чисел '\n",
    "      u'(для использования categorical_crossentropy)')\n",
    "y_train2 = keras.utils.np_utils.to_categorical(y_train, num_classes)\n",
    "y_test2 = keras.utils.np_utils.to_categorical(y_test, num_classes)\n",
    "print('y_train shape:', y_train2.shape)\n",
    "print('y_test shape:', y_test2.shape)"
   ]
  },
  {
   "cell_type": "markdown",
   "metadata": {},
   "source": [
    "### FCN"
   ]
  },
  {
   "cell_type": "code",
   "execution_count": null,
   "metadata": {},
   "outputs": [],
   "source": [
    "from keras.models import Sequential\n",
    "from keras.layers import Dense\n",
    "from keras.layers import Activation\n",
    "from keras.layers import Dropout\n",
    "\n",
    "# количество эпох\\итераций для обучения\n",
    "epochs = 5\n",
    "\n",
    "print(u'Собираем модель...')\n",
    "model = Sequential()\n",
    "model.add(Dense(512, input_shape=(num_words,)))\n",
    "model.add(Activation('relu'))\n",
    "model.add(Dropout(0.2))\n",
    "model.add(Dense(num_classes))\n",
    "model.add(Activation('softmax'))\n",
    "\n",
    "model.compile(loss='categorical_crossentropy',\n",
    "              optimizer='adam',\n",
    "              metrics=['accuracy'])\n",
    "\n",
    "print(model.summary())"
   ]
  },
  {
   "cell_type": "code",
   "execution_count": null,
   "metadata": {},
   "outputs": [],
   "source": [
    "history = model.fit(X_train2, y_train2,\n",
    "                    batch_size=32,\n",
    "                    epochs=10,\n",
    "                    verbose=1)"
   ]
  },
  {
   "cell_type": "code",
   "execution_count": null,
   "metadata": {},
   "outputs": [],
   "source": [
    "score = model.evaluate(X_test2, y_test2,\n",
    "                       batch_size=32, verbose=1)\n",
    "print()\n",
    "print('Loss: {}'.format(score[0]))\n",
    "print('Accuracy: {}'.format(score[1]))"
   ]
  },
  {
   "cell_type": "code",
   "execution_count": 42,
   "metadata": {},
   "outputs": [
    {
     "data": {
      "image/png": "[encoded data removed]",
      "text/plain": [
       "<Figure size 432x288 with 1 Axes>"
      ]
     },
     "metadata": {
      "needs_background": "light"
     },
     "output_type": "display_data"
    },
    {
     "data": {
      "image/png": "[encoded data removed]",
      "text/plain": [
       "<Figure size 432x288 with 1 Axes>"
      ]
     },
     "metadata": {
      "needs_background": "light"
     },
     "output_type": "display_data"
    }
   ],
   "source": [
    "import matplotlib.pyplot as plt\n",
    "\n",
    "# График точности модели\n",
    "plt.plot(history.history['accuracy'])\n",
    "plt.title('model accuracy')\n",
    "plt.ylabel('accuracy')\n",
    "plt.xlabel('epoch')\n",
    "plt.legend(['train', 'test'], loc='upper left')\n",
    "plt.show()\n",
    "# График оценки loss\n",
    "plt.plot(history.history['loss'])\n",
    "plt.title('model loss')\n",
    "plt.ylabel('loss')\n",
    "plt.xlabel('epoch')\n",
    "plt.legend(['train', 'test'], loc='upper left')\n",
    "plt.show()"
   ]
  },
  {
   "cell_type": "code",
   "execution_count": 46,
   "metadata": {},
   "outputs": [
    {
     "name": "stdout",
     "output_type": "stream",
     "text": [
      "2612/2612 [==============================] - 4s 2ms/step\n"
     ]
    }
   ],
   "source": [
    "pred = model.predict(X_test2, batch_size=32, verbose=1)"
   ]
  },
  {
   "cell_type": "code",
   "execution_count": 53,
   "metadata": {},
   "outputs": [
    {
     "name": "stdout",
     "output_type": "stream",
     "text": [
      "[18 96 76 ... 73 87 82]\n",
      "[25 82 76 ... 73 87 82]\n",
      "              precision    recall  f1-score   support\n",
      "\n",
      "           1       0.56      0.88      0.68        17\n",
      "           2       0.65      0.87      0.74       112\n",
      "           3       0.74      0.83      0.78       172\n",
      "           4       0.83      0.92      0.87       142\n",
      "           5       0.53      0.80      0.64        10\n",
      "           6       0.87      0.93      0.90       658\n",
      "           7       0.68      0.69      0.68       487\n",
      "           8       0.86      0.84      0.85       952\n",
      "           9       0.54      0.59      0.56       189\n",
      "          10       0.57      0.76      0.65        50\n",
      "          11       0.45      0.61      0.52        69\n",
      "          12       0.59      0.64      0.61       105\n",
      "          13       0.00      0.00      0.00         5\n",
      "          14       0.44      0.80      0.57         5\n",
      "          15       0.70      0.63      0.66       127\n",
      "          16       0.89      0.84      0.86       310\n",
      "          17       0.58      0.80      0.67       147\n",
      "          18       0.77      0.74      0.75       344\n",
      "          19       0.65      0.83      0.73       357\n",
      "          20       0.82      0.81      0.82       361\n",
      "          21       0.61      0.71      0.66       362\n",
      "          22       0.94      0.95      0.94      1057\n",
      "          23       0.88      0.88      0.88       136\n",
      "          24       0.66      0.93      0.77        43\n",
      "          25       0.49      0.66      0.56       104\n",
      "          26       0.50      0.82      0.62        11\n",
      "          27       0.91      0.89      0.90      1153\n",
      "          28       0.51      0.70      0.59       240\n",
      "          29       0.73      0.72      0.72       556\n",
      "          30       0.89      0.95      0.92       823\n",
      "          31       0.69      0.69      0.69        75\n",
      "          32       0.68      0.71      0.70       501\n",
      "          33       0.85      0.87      0.86      1066\n",
      "          34       0.66      0.77      0.71       654\n",
      "          35       0.52      0.69      0.59        97\n",
      "          36       0.00      0.00      0.00         2\n",
      "          37       0.44      0.88      0.58        16\n",
      "          38       0.48      0.53      0.50       474\n",
      "          39       0.85      0.85      0.85      4580\n",
      "          40       0.90      0.94      0.92      4010\n",
      "          41       0.14      0.50      0.22         2\n",
      "          42       0.92      0.95      0.94       745\n",
      "          43       0.65      0.67      0.66        36\n",
      "          44       0.96      0.93      0.94      2742\n",
      "          45       0.42      0.71      0.53         7\n",
      "          46       0.43      0.50      0.46        26\n",
      "          47       0.88      0.95      0.91        37\n",
      "          48       0.85      0.84      0.85       974\n",
      "          49       0.72      0.70      0.71       268\n",
      "          50       0.67      1.00      0.80         2\n",
      "          51       0.83      0.83      0.83         6\n",
      "          52       0.87      0.81      0.84        75\n",
      "          53       0.38      1.00      0.55         3\n",
      "          54       0.75      0.86      0.80        79\n",
      "          55       0.73      0.82      0.77        55\n",
      "          56       0.49      0.67      0.56       105\n",
      "          57       0.87      0.92      0.89       109\n",
      "          58       0.59      0.70      0.64        64\n",
      "          59       0.63      0.72      0.67       116\n",
      "          60       0.65      0.88      0.75        41\n",
      "          61       0.96      0.97      0.97      4557\n",
      "          62       0.96      0.96      0.96      3781\n",
      "          63       0.75      0.73      0.74       539\n",
      "          64       0.99      0.99      0.99      1720\n",
      "          65       0.74      0.70      0.72       304\n",
      "          66       0.58      1.00      0.73        11\n",
      "          67       0.50      0.90      0.64        20\n",
      "          68       0.62      0.80      0.70       410\n",
      "          69       0.82      0.89      0.86       486\n",
      "          70       0.77      0.88      0.82       751\n",
      "          71       0.78      0.84      0.81        87\n",
      "          72       0.94      0.96      0.95       643\n",
      "          73       0.90      0.90      0.90      6130\n",
      "          74       0.55      0.73      0.63       264\n",
      "          75       0.07      0.50      0.12         2\n",
      "          76       0.76      0.83      0.79       483\n",
      "          78       0.50      0.75      0.60         4\n",
      "          79       0.38      0.83      0.53         6\n",
      "          80       0.00      0.00      0.00         0\n",
      "          81       0.53      0.69      0.60        48\n",
      "          82       0.75      0.83      0.79      1215\n",
      "          83       0.71      0.84      0.77      1085\n",
      "          84       0.85      0.83      0.84     10848\n",
      "          85       0.91      0.77      0.83     13459\n",
      "          86       0.72      0.90      0.80        60\n",
      "          87       0.92      0.85      0.88      5938\n",
      "          88       0.50      1.00      0.67         3\n",
      "          89       0.50      0.80      0.62        10\n",
      "          90       0.71      0.85      0.77      1958\n",
      "          91       0.91      0.97      0.94       313\n",
      "          92       0.60      0.83      0.70        48\n",
      "          93       0.00      0.00      0.00         0\n",
      "          94       0.84      0.93      0.88      1297\n",
      "          95       0.66      0.84      0.74       527\n",
      "          96       0.48      0.64      0.55       477\n",
      "          97       0.00      0.00      0.00         2\n",
      "\n",
      "    accuracy                           0.85     83557\n",
      "   macro avg       0.65      0.77      0.69     83557\n",
      "weighted avg       0.86      0.85      0.86     83557\n",
      "\n"
     ]
    },
    {
     "name": "stderr",
     "output_type": "stream",
     "text": [
      "/home/eugene/miniconda3/envs/tester4/lib/python3.8/site-packages/sklearn/metrics/_classification.py:1248: UndefinedMetricWarning: Recall and F-score are ill-defined and being set to 0.0 in labels with no true samples. Use `zero_division` parameter to control this behavior.\n",
      "  _warn_prf(average, modifier, msg_start, len(result))\n",
      "/home/eugene/miniconda3/envs/tester4/lib/python3.8/site-packages/sklearn/metrics/_classification.py:1248: UndefinedMetricWarning: Recall and F-score are ill-defined and being set to 0.0 in labels with no true samples. Use `zero_division` parameter to control this behavior.\n",
      "  _warn_prf(average, modifier, msg_start, len(result))\n",
      "/home/eugene/miniconda3/envs/tester4/lib/python3.8/site-packages/sklearn/metrics/_classification.py:1248: UndefinedMetricWarning: Recall and F-score are ill-defined and being set to 0.0 in labels with no true samples. Use `zero_division` parameter to control this behavior.\n",
      "  _warn_prf(average, modifier, msg_start, len(result))\n"
     ]
    }
   ],
   "source": [
    "pred2 = np.argmax(pred, axis=1)\n",
    "print(pred2)\n",
    "print(y_test.values)\n",
    "from sklearn import metrics\n",
    "print(metrics.classification_report(pred2,y_test.values))\n"
   ]
  },
  {
   "cell_type": "markdown",
   "metadata": {},
   "source": [
    "### LSTM"
   ]
  },
  {
   "cell_type": "code",
   "execution_count": 26,
   "metadata": {},
   "outputs": [],
   "source": [
    "from keras.preprocessing.text import Tokenizer\n",
    "\n",
    "# создаем единый словарь (слово -> число) для преобразования\n",
    "lstm_tokenizer = Tokenizer()\n",
    "lstm_tokenizer.fit_on_texts(descriptions.tolist())\n",
    "\n",
    "# Преобразуем все описания в числовые последовательности, заменяя слова на числа по словарю.\n",
    "lstm_textSequences = lstm_tokenizer.texts_to_sequences(descriptions.tolist())"
   ]
  },
  {
   "cell_type": "code",
   "execution_count": 27,
   "metadata": {},
   "outputs": [
    {
     "name": "stdout",
     "output_type": "stream",
     "text": [
      "Test size: 250672\n",
      "\n",
      "Training set:\n",
      "\t - x_train: 1002689\n",
      "\t - y_train: 1002689\n",
      "\n",
      "Testing set:\n",
      "\t - x_test: 250672\n",
      "\t - y_test: 250672\n",
      "Максимальное количество слов в самом длинном описании заявки: 69 слов\n",
      "Всего уникальных слов в словаре: 343247\n"
     ]
    }
   ],
   "source": [
    "X_train3, y_train3, X_test3, y_test3 = load_data_from_arrays(lstm_textSequences, categories, train_test_split=0.8)\n",
    "# Максимальное количество слов в самом длинном описании заявки\n",
    "max_words = 0\n",
    "for desc in descriptions.tolist():\n",
    "    words = len(desc.split())\n",
    "    if words > max_words:\n",
    "        max_words = words\n",
    "print('Максимальное количество слов в самом длинном описании заявки: {} слов'.format(max_words))\n",
    "\n",
    "total_unique_words = len(lstm_tokenizer.word_counts)\n",
    "print('Всего уникальных слов в словаре: {}'.format(total_unique_words))\n",
    "\n",
    "maxSequenceLength = max_words"
   ]
  },
  {
   "cell_type": "code",
   "execution_count": 29,
   "metadata": {},
   "outputs": [],
   "source": [
    "vocab_size = round(total_unique_words/50)"
   ]
  },
  {
   "cell_type": "code",
   "execution_count": 30,
   "metadata": {},
   "outputs": [],
   "source": [
    "lstm_tokenizer = Tokenizer(num_words=vocab_size)\n",
    "lstm_tokenizer.fit_on_texts(descriptions)"
   ]
  },
  {
   "cell_type": "code",
   "execution_count": 31,
   "metadata": {},
   "outputs": [
    {
     "name": "stdout",
     "output_type": "stream",
     "text": [
      "[14746, 272, 204432, 50, 191, 272, 164, 2621, 88, 90505, 9, 37, 106427, 8, 4970, 11, 14746, 272, 204433, 50, 191, 272, 164, 2621, 88, 90505, 9, 37, 59900, 8, 4970, 11, 14746, 272, 204434, 50, 191, 272, 164, 2621, 88, 90505, 9]\n"
     ]
    }
   ],
   "source": [
    "print(X_train[0])"
   ]
  },
  {
   "cell_type": "code",
   "execution_count": 33,
   "metadata": {},
   "outputs": [],
   "source": [
    "num_classes=98"
   ]
  },
  {
   "cell_type": "code",
   "execution_count": 34,
   "metadata": {},
   "outputs": [
    {
     "name": "stdout",
     "output_type": "stream",
     "text": [
      "Размерность X_train: (1002689, 69)\n",
      "Размерность X_test: (250672, 69)\n",
      "Преобразуем категории в матрицу двоичных чисел (для использования categorical_crossentropy)\n",
      "y_train shape: (1002689, 98)\n",
      "y_test shape: (250672, 98)\n"
     ]
    }
   ],
   "source": [
    "from keras.preprocessing.sequence import pad_sequences\n",
    "#X_train4 = lstm_tokenizer.texts_to_sequences(X_train)\n",
    "#X_test4 = lstm_tokenizer.texts_to_sequences(X_test)\n",
    "\n",
    "X_train4 = pad_sequences(X_train, maxlen=maxSequenceLength)\n",
    "X_test4 = pad_sequences(X_test, maxlen=maxSequenceLength)\n",
    "\n",
    "print('Размерность X_train:', X_train4.shape)\n",
    "print('Размерность X_test:', X_test4.shape)\n",
    "\n",
    "print(u'Преобразуем категории в матрицу двоичных чисел '\n",
    "      u'(для использования categorical_crossentropy)')\n",
    "\n",
    "y_train4 = keras.utils.np_utils.to_categorical(y_train, num_classes)\n",
    "y_test4 = keras.utils.np_utils.to_categorical(y_test, num_classes)\n",
    "print('y_train shape:', y_train4.shape)\n",
    "print('y_test shape:', y_test4.shape)"
   ]
  },
  {
   "cell_type": "code",
   "execution_count": 35,
   "metadata": {},
   "outputs": [
    {
     "name": "stdout",
     "output_type": "stream",
     "text": [
      "Количество категорий для классификации: 98\n"
     ]
    }
   ],
   "source": [
    "import numpy as np\n",
    "from sklearn.preprocessing import LabelEncoder\n",
    "\n",
    "encoder = LabelEncoder()\n",
    "encoder.fit(y_train)\n",
    "y_train = encoder.transform(y_train)\n",
    "y_test = encoder.transform(y_test)\n",
    "\n",
    "num_classes = 98\n",
    "print('Количество категорий для классификации: {}'.format(num_classes))"
   ]
  },
  {
   "cell_type": "code",
   "execution_count": 36,
   "metadata": {},
   "outputs": [
    {
     "name": "stdout",
     "output_type": "stream",
     "text": [
      "Собираем модель...\n"
     ]
    },
    {
     "name": "stderr",
     "output_type": "stream",
     "text": [
      "2022-06-04 20:30:02.148818: I tensorflow/stream_executor/cuda/cuda_gpu_executor.cc:936] successful NUMA node read from SysFS had negative value (-1), but there must be at least one NUMA node, so returning NUMA node zero\n",
      "2022-06-04 20:30:02.208019: I tensorflow/stream_executor/cuda/cuda_gpu_executor.cc:936] successful NUMA node read from SysFS had negative value (-1), but there must be at least one NUMA node, so returning NUMA node zero\n",
      "2022-06-04 20:30:02.208343: I tensorflow/stream_executor/cuda/cuda_gpu_executor.cc:936] successful NUMA node read from SysFS had negative value (-1), but there must be at least one NUMA node, so returning NUMA node zero\n",
      "2022-06-04 20:30:02.211651: I tensorflow/stream_executor/cuda/cuda_gpu_executor.cc:936] successful NUMA node read from SysFS had negative value (-1), but there must be at least one NUMA node, so returning NUMA node zero\n",
      "2022-06-04 20:30:02.211923: I tensorflow/stream_executor/cuda/cuda_gpu_executor.cc:936] successful NUMA node read from SysFS had negative value (-1), but there must be at least one NUMA node, so returning NUMA node zero\n",
      "2022-06-04 20:30:02.212194: I tensorflow/stream_executor/cuda/cuda_gpu_executor.cc:936] successful NUMA node read from SysFS had negative value (-1), but there must be at least one NUMA node, so returning NUMA node zero\n",
      "2022-06-04 20:30:02.815881: I tensorflow/stream_executor/cuda/cuda_gpu_executor.cc:936] successful NUMA node read from SysFS had negative value (-1), but there must be at least one NUMA node, so returning NUMA node zero\n",
      "2022-06-04 20:30:02.816115: I tensorflow/stream_executor/cuda/cuda_gpu_executor.cc:936] successful NUMA node read from S"
     ]
    },
    {
     "name": "stdout",
     "output_type": "stream",
     "text": [
      "WARNING:tensorflow:Layer lstm will not use cuDNN kernels since it doesn't meet the criteria. It will use a generic GPU kernel as fallback when running on GPU.\n",
      "Model: \"sequential\"\n",
      "_________________________________________________________________\n",
      " Layer (type)                Output Shape              Param #   \n",
      "=================================================================\n",
      " embedding (Embedding)       (None, None, 69)          473685    \n",
      "                                                                 \n",
      " lstm (LSTM)                 (None, 32)                13056     \n",
      "                                                                 \n",
      " dense (Dense)               (None, 98)                3234      \n",
      "                                                                 \n",
      "=================================================================\n",
      "Total params: 489,975\n",
      "Trainable params: 489,975\n",
      "Non-trainable params: 0\n",
      "_________________________________________________________________\n",
      "None\n"
     ]
    },
    {
     "name": "stderr",
     "output_type": "stream",
     "text": [
      "ysFS had negative value (-1), but there must be at least one NUMA node, so returning NUMA node zero\n",
      "2022-06-04 20:30:02.816387: I tensorflow/stream_executor/cuda/cuda_gpu_executor.cc:936] successful NUMA node read from SysFS had negative value (-1), but there must be at least one NUMA node, so returning NUMA node zero\n",
      "2022-06-04 20:30:02.816582: I tensorflow/core/common_runtime/gpu/gpu_device.cc:1525] Created device /job:localhost/replica:0/task:0/device:GPU:0 with 4794 MB memory:  -> device: 0, name: NVIDIA GeForce GTX 1070 Ti, pci bus id: 0000:04:00.0, compute capability: 6.1\n"
     ]
    }
   ],
   "source": [
    "from  keras.models import Sequential\n",
    "from keras.layers import Dense, Embedding, LSTM\n",
    "\n",
    "# максимальное количество слов для анализа\n",
    "max_features = vocab_size\n",
    "\n",
    "print(u'Собираем модель...')\n",
    "model = Sequential()\n",
    "model.add(Embedding(max_features, maxSequenceLength))\n",
    "model.add(LSTM(32, dropout=0.2, recurrent_dropout=0.2))\n",
    "model.add(Dense(num_classes, activation='sigmoid'))\n",
    "\n",
    "model.compile(loss='binary_crossentropy',\n",
    "              optimizer='adam',\n",
    "              metrics=['accuracy'])\n",
    "\n",
    "print (model.summary())\n"
   ]
  },
  {
   "cell_type": "code",
   "execution_count": 58,
   "metadata": {},
   "outputs": [
    {
     "name": "stdout",
     "output_type": "stream",
     "text": [
      "Тренируем модель...\n",
      "Epoch 1/10\n",
      "1959/1959 [==============================] - 820s 418ms/step - loss: 0.0057 - accuracy: 0.9147 - val_loss: 0.0054 - val_accuracy: 0.9189\n",
      "Epoch 2/10\n",
      "1959/1959 [==============================] - 821s 419ms/step - loss: 0.0052 - accuracy: 0.9224 - val_loss: 0.0050 - val_accuracy: 0.9236\n",
      "Epoch 3/10\n",
      "1959/1959 [==============================] - 821s 419ms/step - loss: 0.0048 - accuracy: 0.9264 - val_loss: 0.0047 - val_accuracy: 0.9269\n",
      "Epoch 4/10\n",
      "1959/1959 [==============================] - 821s 419ms/step - loss: 0.0045 - accuracy: 0.9298 - val_loss: 0.0045 - val_accuracy: 0.9290\n",
      "Epoch 5/10\n",
      "1959/1959 [==============================] - 817s 417ms/step - loss: 0.0043 - accuracy: 0.9324 - val_loss: 0.0044 - val_accuracy: 0.9305\n",
      "Epoch 6/10\n",
      "1959/1959 [==============================] - 822s 419ms/step - loss: 0.0042 - accuracy: 0.9345 - val_loss: 0.0043 - val_accuracy: 0.9326\n",
      "Epoch 7/10\n",
      "1959/1959 [==============================] - 822s 419ms/step - loss: 0.0040 - accuracy: 0.9362 - val_loss: 0.0042 - val_accuracy: 0.9337\n",
      "Epoch 8/10\n",
      "1959/1959 [==============================] - 822s 420ms/step - loss: 0.0039 - accuracy: 0.9377 - val_loss: 0.0041 - val_accuracy: 0.9347\n",
      "Epoch 9/10\n",
      "1959/1959 [==============================] - 825s 421ms/step - loss: 0.0038 - accuracy: 0.9388 - val_loss: 0.0041 - val_accuracy: 0.9351\n",
      "Epoch 10/10\n",
      "1959/1959 [==============================] - 823s 420ms/step - loss: 0.0038 - accuracy: 0.9398 - val_loss: 0.0040 - val_accuracy: 0.9362\n"
     ]
    }
   ],
   "source": [
    "batch_size = 512\n",
    "epochs = 10\n",
    "\n",
    "print(u'Тренируем модель...')\n",
    "history = model.fit(np.array(X_train4), np.array(y_train4),\n",
    "          batch_size=batch_size,\n",
    "          epochs=epochs,\n",
    "          validation_data=(np.array(X_test4), np.array(y_test4))\n",
    "                   )\n"
   ]
  },
  {
   "cell_type": "code",
   "execution_count": null,
   "metadata": {},
   "outputs": [],
   "source": []
  },
  {
   "cell_type": "code",
   "execution_count": null,
   "metadata": {},
   "outputs": [],
   "source": []
  },
  {
   "cell_type": "code",
   "execution_count": 59,
   "metadata": {},
   "outputs": [
    {
     "name": "stdout",
     "output_type": "stream",
     "text": [
      "490/490 [==============================] - 25s 52ms/step - loss: 0.0040 - accuracy: 0.9362\n",
      "\n",
      "Loss: 0.0040199849754571915\n",
      "Accuracy: 0.936159610748291\n"
     ]
    }
   ],
   "source": [
    "score = model.evaluate(np.array(X_test4), np.array(y_test4),\n",
    "                       batch_size=batch_size, verbose=1)\n",
    "print()\n",
    "print(u'Loss: {}'.format(score[0]))\n",
    "print(u'Accuracy: {}'.format(score[1]))"
   ]
  },
  {
   "cell_type": "code",
   "execution_count": 66,
   "metadata": {},
   "outputs": [
    {
     "name": "stdout",
     "output_type": "stream",
     "text": [
      "Saved model to disk\n"
     ]
    }
   ],
   "source": [
    "#Save model for inference \n",
    "model_json = model.to_json()\n",
    "with open(\"lstm_2_digits.json\", \"w\") as json_file:\n",
    "    json_file.write(model_json)\n",
    "# serialize weights to HDF5\n",
    "model.save_weights(\"lstm_2_digits.h5\")\n",
    "print(\"Saved model to disk\")\n",
    "    \n",
    "np.save('encoder_classes.npy', encoder.classes_)\n",
    "\n",
    "\n",
    "import io\n",
    "import json\n",
    "tokenizer_json = lstm_tokenizer.to_json()\n",
    "with io.open('lstm_tokenizer.json', 'w', encoding='utf-8') as f:\n",
    "    f.write(json.dumps(tokenizer_json, ensure_ascii=False))"
   ]
  },
  {
   "cell_type": "code",
   "execution_count": null,
   "metadata": {},
   "outputs": [],
   "source": [
    "pred = model.predict(X_test4, batch_size=512, verbose=1)\n"
   ]
  },
  {
   "cell_type": "code",
   "execution_count": 65,
   "metadata": {},
   "outputs": [
    {
     "name": "stdout",
     "output_type": "stream",
     "text": [
      "[62 62 85 ... 73 62 61]\n",
      "[[0. 0. 0. ... 0. 0. 0.]\n",
      " [0. 0. 0. ... 0. 0. 0.]\n",
      " [0. 0. 0. ... 0. 1. 0.]\n",
      " ...\n",
      " [0. 0. 0. ... 0. 0. 0.]\n",
      " [0. 0. 0. ... 0. 0. 0.]\n",
      " [0. 0. 0. ... 0. 0. 0.]]\n"
     ]
    },
    {
     "name": "stderr",
     "output_type": "stream",
     "text": [
      "/home/eugene/miniconda3/envs/tester4/lib/python3.8/site-packages/sklearn/metrics/_classification.py:1248: UndefinedMetricWarning: Recall and F-score are ill-defined and being set to 0.0 in labels with no true samples. Use `zero_division` parameter to control this behavior.\n",
      "  _warn_prf(average, modifier, msg_start, len(result))\n"
     ]
    },
    {
     "name": "stdout",
     "output_type": "stream",
     "text": [
      "              precision    recall  f1-score   support\n",
      "\n",
      "           1       0.81      0.95      0.87        61\n",
      "           2       0.95      0.93      0.94       410\n",
      "           3       0.94      0.94      0.94       611\n",
      "           4       0.94      0.92      0.93       563\n",
      "           5       0.27      1.00      0.43         9\n",
      "           6       0.99      1.00      1.00      2068\n",
      "           7       0.93      0.91      0.92      1414\n",
      "           8       0.97      0.96      0.97      2904\n",
      "           9       0.79      0.91      0.85       491\n",
      "          10       0.84      0.94      0.89       174\n",
      "          11       0.91      0.90      0.91       322\n",
      "          12       0.75      0.78      0.76       272\n",
      "          13       0.15      0.64      0.24        14\n",
      "          14       0.00      0.00      0.00         0\n",
      "          15       0.88      0.93      0.90       364\n",
      "          16       0.91      0.96      0.94       904\n",
      "          17       0.84      0.87      0.85       718\n",
      "          18       0.90      0.94      0.92      1040\n",
      "          19       0.89      0.86      0.88      1267\n",
      "          20       0.90      0.91      0.91      1073\n",
      "          21       0.87      0.87      0.87      1272\n",
      "          22       0.99      0.98      0.98      3247\n",
      "          23       0.93      0.91      0.92       389\n",
      "          24       0.97      0.97      0.97       165\n",
      "          25       0.76      0.84      0.80       443\n",
      "          26       0.68      0.59      0.63        46\n",
      "          27       0.96      0.97      0.96      3214\n",
      "          28       0.78      0.89      0.83       831\n",
      "          29       0.88      0.78      0.82      1702\n",
      "          30       0.95      0.95      0.95      2683\n",
      "          31       0.86      0.93      0.90       175\n",
      "          32       0.87      0.89      0.88      1473\n",
      "          33       0.97      0.96      0.96      3253\n",
      "          34       0.89      0.93      0.91      2363\n",
      "          35       0.74      0.85      0.79       358\n",
      "          36       0.00      0.00      0.00         0\n",
      "          37       0.55      0.77      0.64        71\n",
      "          38       0.74      0.72      0.73      1670\n",
      "          39       0.92      0.92      0.92     13601\n",
      "          40       0.95      0.98      0.97     12185\n",
      "          41       0.81      0.92      0.86        24\n",
      "          42       0.96      0.98      0.97      2258\n",
      "          43       0.84      0.96      0.89        89\n",
      "          44       0.99      0.99      0.99      7763\n",
      "          45       0.68      0.88      0.77        32\n",
      "          46       0.86      0.91      0.89        90\n",
      "          47       0.92      0.98      0.95       125\n",
      "          48       0.94      0.95      0.94      2786\n",
      "          49       0.85      0.90      0.88       800\n",
      "          50       0.00      0.00      0.00         0\n",
      "          51       0.00      0.00      0.00         0\n",
      "          52       0.89      0.76      0.82       278\n",
      "          53       0.00      0.00      0.00         0\n",
      "          54       0.88      0.84      0.86       315\n",
      "          55       0.73      0.94      0.82       139\n",
      "          56       0.66      0.75      0.71       358\n",
      "          57       0.94      0.98      0.96       329\n",
      "          58       0.75      0.84      0.79       216\n",
      "          59       0.63      0.80      0.70       284\n",
      "          60       0.91      0.92      0.91       179\n",
      "          61       0.98      0.99      0.98     13775\n",
      "          62       0.98      0.98      0.98     11797\n",
      "          63       0.88      0.88      0.88      1572\n",
      "          64       1.00      1.00      1.00      4963\n",
      "          65       0.91      0.98      0.94       736\n",
      "          66       0.80      0.98      0.88        58\n",
      "          67       0.62      0.95      0.75        85\n",
      "          68       0.83      0.89      0.86      1469\n",
      "          69       0.96      0.95      0.95      1542\n",
      "          70       0.94      0.96      0.95      2559\n",
      "          71       0.84      0.91      0.87       241\n",
      "          72       0.96      0.97      0.97      1870\n",
      "          73       0.94      0.93      0.93     18557\n",
      "          74       0.86      0.95      0.91       955\n",
      "          75       0.55      0.82      0.66        44\n",
      "          76       0.90      0.93      0.91      1687\n",
      "          78       0.05      1.00      0.09         1\n",
      "          79       0.69      0.91      0.78        32\n",
      "          80       0.00      0.00      0.00         0\n",
      "          81       0.69      0.81      0.75       145\n",
      "          82       0.91      0.94      0.92      3774\n",
      "          83       0.89      0.92      0.90      3642\n",
      "          84       0.95      0.90      0.93     33885\n",
      "          85       0.96      0.94      0.95     34967\n",
      "          86       0.74      0.95      0.83       193\n",
      "          87       0.95      0.93      0.94     16155\n",
      "          88       0.00      0.00      0.00         0\n",
      "          89       0.31      0.82      0.44        22\n",
      "          90       0.86      0.90      0.88      6535\n",
      "          91       0.97      0.99      0.98       968\n",
      "          92       0.64      0.87      0.74       119\n",
      "          93       0.00      0.00      0.00         0\n",
      "          94       0.94      0.96      0.95      4650\n",
      "          95       0.88      0.89      0.88      1951\n",
      "          96       0.80      0.86      0.83      1838\n",
      "          97       0.00      0.00      0.00         0\n",
      "\n",
      "    accuracy                           0.94    250672\n",
      "   macro avg       0.75      0.82      0.78    250672\n",
      "weighted avg       0.94      0.94      0.94    250672\n",
      "\n"
     ]
    },
    {
     "name": "stderr",
     "output_type": "stream",
     "text": [
      "/home/eugene/miniconda3/envs/tester4/lib/python3.8/site-packages/sklearn/metrics/_classification.py:1248: UndefinedMetricWarning: Recall and F-score are ill-defined and being set to 0.0 in labels with no true samples. Use `zero_division` parameter to control this behavior.\n",
      "  _warn_prf(average, modifier, msg_start, len(result))\n",
      "/home/eugene/miniconda3/envs/tester4/lib/python3.8/site-packages/sklearn/metrics/_classification.py:1248: UndefinedMetricWarning: Recall and F-score are ill-defined and being set to 0.0 in labels with no true samples. Use `zero_division` parameter to control this behavior.\n",
      "  _warn_prf(average, modifier, msg_start, len(result))\n"
     ]
    }
   ],
   "source": [
    "pred2 = np.argmax(pred, axis=1)\n",
    "print(pred2)\n",
    "print(y_test4)\n",
    "from sklearn import metrics\n",
    "print(metrics.classification_report(pred2, np.argmax(y_test4, axis=1)))"
   ]
  },
  {
   "cell_type": "code",
   "execution_count": 62,
   "metadata": {},
   "outputs": [
    {
     "name": "stdout",
     "output_type": "stream",
     "text": [
      "1/1 [==============================] - 0s 76ms/step\n",
      "[39]\n"
     ]
    }
   ],
   "source": [
    "input_line = 'изделия прочие пластмасс изделия прочих материалов товарных позиций 3901 3914 прочие прочие прочие прочие'\n",
    "#input_line = 'прочие семена плоды прочих масличных культур'\n",
    "text_sec = lstm_tokenizer.texts_to_sequences([input_line])\n",
    "#print(text_sec)\n",
    "text_sec = pad_sequences(text_sec, maxlen=69)\n",
    "#print(text_sec)\n",
    "pred = model.predict(text_sec, batch_size=1, verbose=1)\n",
    "print(np.argmax(pred,axis=1))"
   ]
  },
  {
   "cell_type": "code",
   "execution_count": null,
   "metadata": {},
   "outputs": [],
   "source": []
  }
 ],
 "metadata": {
  "kernelspec": {
   "display_name": "Python 3 (ipykernel)",
   "language": "python",
   "name": "python3"
  },
  "language_info": {
   "codemirror_mode": {
    "name": "ipython",
    "version": 3
   },
   "file_extension": ".py",
   "mimetype": "text/x-python",
   "name": "python",
   "nbconvert_exporter": "python",
   "pygments_lexer": "ipython3",
   "version": "3.8.10"
  }
 },
 "nbformat": 4,
 "nbformat_minor": 4
}
